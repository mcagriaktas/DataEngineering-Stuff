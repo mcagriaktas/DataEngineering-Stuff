{
 "cells": [
  {
   "cell_type": "code",
   "execution_count": 2,
   "id": "5e31694b-1734-4676-9f5d-dbeea0c6f6dc",
   "metadata": {},
   "outputs": [],
   "source": [
    "from pyspark.sql import SparkSession\n",
    "from pyspark.conf import SparkConf #SparkSession ve SparkContext'in ayarlanmasına yardımcı olur. (Kullanılmasa da olur.)\n",
    "from pyspark import SparkContext"
   ]
  },
  {
   "cell_type": "code",
   "execution_count": 3,
   "id": "7ed7f898-3040-4294-a9f9-52d581bae210",
   "metadata": {},
   "outputs": [],
   "source": [
    "pyspark = SparkSession.builder \\\n",
    "    .master(\"local[4]\") \\\n",
    "    .appName(\"RDD-Olusturmak\") \\\n",
    "    .config(\"spark.executor.memory\", \"4g\") \\\n",
    "    .config(\"spark.driver.memory\", \"2g\") \\\n",
    "    .getOrCreate()"
   ]
  },
  {
   "cell_type": "code",
   "execution_count": 4,
   "id": "6a0e9349-041b-4230-96c9-5e63c92a14e5",
   "metadata": {},
   "outputs": [],
   "source": [
    "sc = pyspark.sparkContext"
   ]
  },
  {
   "cell_type": "markdown",
   "id": "7aeb0e03-d6ef-418b-b4cd-fc40caf802b7",
   "metadata": {},
   "source": [
    "# RDD Basic transformation (union, intersection, subtrack, cartesian)"
   ]
  },
  {
   "cell_type": "code",
   "execution_count": 5,
   "id": "2319146a-dfb2-4961-8a5b-e8ad0f26da97",
   "metadata": {},
   "outputs": [],
   "source": [
    "rdd1 = sc.parallelize([1, 2, 9, 4, 5, 36])"
   ]
  },
  {
   "cell_type": "code",
   "execution_count": 6,
   "id": "9326030e-b01a-4b83-acdb-6be129864a33",
   "metadata": {},
   "outputs": [],
   "source": [
    "rdd2 = sc.parallelize([1, 4, 9, 16, 25, 36])"
   ]
  },
  {
   "cell_type": "code",
   "execution_count": 7,
   "id": "5663e145-500b-4aeb-90f5-70d4cde1fa91",
   "metadata": {},
   "outputs": [
    {
     "data": {
      "text/plain": [
       "[1, 2, 9]"
      ]
     },
     "execution_count": 7,
     "metadata": {},
     "output_type": "execute_result"
    }
   ],
   "source": [
    "rdd1.take(3)"
   ]
  },
  {
   "cell_type": "code",
   "execution_count": 8,
   "id": "1b049621-00a3-4b94-877c-7adcbf1798c3",
   "metadata": {},
   "outputs": [
    {
     "data": {
      "text/plain": [
       "[1, 4, 9]"
      ]
     },
     "execution_count": 8,
     "metadata": {},
     "output_type": "execute_result"
    }
   ],
   "source": [
    "rdd2.take(3)"
   ]
  },
  {
   "cell_type": "markdown",
   "id": "f30222e0-8707-407d-b83d-e1761a2db351",
   "metadata": {},
   "source": [
    "union"
   ]
  },
  {
   "cell_type": "code",
   "execution_count": 9,
   "id": "730a179f-4d7a-4406-961a-0fabb755c4a8",
   "metadata": {},
   "outputs": [
    {
     "data": {
      "text/plain": [
       "[1, 2, 9, 4, 5, 36, 1, 4, 9, 16, 25, 36]"
      ]
     },
     "execution_count": 9,
     "metadata": {},
     "output_type": "execute_result"
    }
   ],
   "source": [
    "rdd1.union(rdd2).take(12)"
   ]
  },
  {
   "cell_type": "markdown",
   "id": "5a626eca-674d-4464-a30b-e470e1b02828",
   "metadata": {},
   "source": [
    "intersection"
   ]
  },
  {
   "cell_type": "code",
   "execution_count": 11,
   "id": "b17ef347-a20b-49d6-a253-1e4516b7af52",
   "metadata": {},
   "outputs": [
    {
     "data": {
      "text/plain": [
       "[1, 9, 4, 36]"
      ]
     },
     "execution_count": 11,
     "metadata": {},
     "output_type": "execute_result"
    }
   ],
   "source": [
    "rdd1.intersection(rdd2).take(12)"
   ]
  },
  {
   "cell_type": "markdown",
   "id": "016c7bb5-465a-4d2d-911a-53758c4d4616",
   "metadata": {},
   "source": [
    "subtrack"
   ]
  },
  {
   "cell_type": "code",
   "execution_count": 12,
   "id": "6b8d8042-d2b0-4673-bb67-c466be63aefa",
   "metadata": {},
   "outputs": [
    {
     "data": {
      "text/plain": [
       "[2, 5]"
      ]
     },
     "execution_count": 12,
     "metadata": {},
     "output_type": "execute_result"
    }
   ],
   "source": [
    "rdd1.subtract(rdd2).take(6)"
   ]
  },
  {
   "cell_type": "markdown",
   "id": "69c6d493-622a-43d4-8d06-5baf769c2f3f",
   "metadata": {},
   "source": [
    "cartesian"
   ]
  },
  {
   "cell_type": "code",
   "execution_count": 13,
   "id": "3f0c4d46-5bcf-4737-9abf-0eabdec31c3c",
   "metadata": {},
   "outputs": [
    {
     "data": {
      "text/plain": [
       "[(1, 1),\n",
       " (1, 4),\n",
       " (1, 9),\n",
       " (1, 16),\n",
       " (1, 25),\n",
       " (1, 36),\n",
       " (2, 1),\n",
       " (9, 1),\n",
       " (2, 4),\n",
       " (2, 9),\n",
       " (9, 4),\n",
       " (9, 9),\n",
       " (2, 16),\n",
       " (9, 16),\n",
       " (2, 25),\n",
       " (2, 36),\n",
       " (9, 25),\n",
       " (9, 36),\n",
       " (4, 1),\n",
       " (4, 4),\n",
       " (4, 9),\n",
       " (4, 16),\n",
       " (4, 25),\n",
       " (4, 36),\n",
       " (5, 1),\n",
       " (36, 1),\n",
       " (5, 4),\n",
       " (5, 9),\n",
       " (36, 4),\n",
       " (36, 9),\n",
       " (5, 16),\n",
       " (36, 16),\n",
       " (5, 25),\n",
       " (5, 36),\n",
       " (36, 25),\n",
       " (36, 36)]"
      ]
     },
     "execution_count": 13,
     "metadata": {},
     "output_type": "execute_result"
    }
   ],
   "source": [
    "rdd1.cartesian(rdd2).take(50)"
   ]
  }
 ],
 "metadata": {
  "kernelspec": {
   "display_name": "Python 3 (ipykernel)",
   "language": "python",
   "name": "python3"
  },
  "language_info": {
   "codemirror_mode": {
    "name": "ipython",
    "version": 3
   },
   "file_extension": ".py",
   "mimetype": "text/x-python",
   "name": "python",
   "nbconvert_exporter": "python",
   "pygments_lexer": "ipython3",
   "version": "3.11.4"
  }
 },
 "nbformat": 4,
 "nbformat_minor": 5
}
