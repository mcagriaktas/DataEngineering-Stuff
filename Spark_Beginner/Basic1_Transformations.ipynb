{
 "cells": [
  {
   "cell_type": "code",
   "execution_count": 2,
   "id": "06846daa-55af-4104-9dbf-718977e7f364",
   "metadata": {},
   "outputs": [],
   "source": [
    "from pyspark.sql import SparkSession\n",
    "from pyspark.conf import SparkConf #SparkSession ve SparkContext'in ayarlanmasına yardımcı olur. (Kullanılmasa da olur.)\n",
    "from pyspark import SparkContext"
   ]
  },
  {
   "cell_type": "code",
   "execution_count": 5,
   "id": "555919f6-5214-4c68-990f-7de59863d654",
   "metadata": {},
   "outputs": [],
   "source": [
    "pyspark = SparkSession.builder \\\n",
    "    .master(\"local[4]\") \\\n",
    "    .appName(\"RDD-Olusturmak\") \\\n",
    "    .config(\"spark.executor.memory\", \"4g\") \\\n",
    "    .config(\"spark.driver.memory\", \"2g\") \\\n",
    "    .getOrCreate()"
   ]
  },
  {
   "cell_type": "code",
   "execution_count": 6,
   "id": "8a3f84b0-9dce-4a67-9b53-f4b95944a74c",
   "metadata": {},
   "outputs": [],
   "source": [
    "sc = pyspark.sparkContext"
   ]
  },
  {
   "cell_type": "markdown",
   "id": "8e020932-ab2d-4856-98c2-81c99929b604",
   "metadata": {},
   "source": [
    "# RDD Basic transformation (map, filter, flatMap, distinct, sample)"
   ]
  },
  {
   "cell_type": "code",
   "execution_count": 7,
   "id": "2f4a796a-bdbb-4624-b6ed-30f7b2847f0a",
   "metadata": {},
   "outputs": [],
   "source": [
    "liste = [1,2,3,4,5,6,6,8,4,1]"
   ]
  },
  {
   "cell_type": "code",
   "execution_count": 8,
   "id": "fdd5d193-89c2-42fa-a21c-246f410aeb43",
   "metadata": {},
   "outputs": [],
   "source": [
    "liste_rdd = sc.parallelize(liste)"
   ]
  },
  {
   "cell_type": "code",
   "execution_count": 9,
   "id": "66df0930-cdb6-46d2-b5aa-d65800dd21fe",
   "metadata": {},
   "outputs": [
    {
     "data": {
      "text/plain": [
       "[1, 2, 3, 4, 5, 6, 6, 8, 4, 1]"
      ]
     },
     "execution_count": 9,
     "metadata": {},
     "output_type": "execute_result"
    }
   ],
   "source": [
    "liste_rdd.take(10)"
   ]
  },
  {
   "cell_type": "markdown",
   "id": "54b9a20f-dad0-400b-bd98-8e58774c7783",
   "metadata": {},
   "source": [
    "map()"
   ]
  },
  {
   "cell_type": "code",
   "execution_count": 10,
   "id": "21b297e0-0217-438c-a9b4-fabcbb0cf27c",
   "metadata": {},
   "outputs": [
    {
     "data": {
      "text/plain": [
       "[1, 4, 9, 16, 25, 36, 36, 64, 16, 1]"
      ]
     },
     "execution_count": 10,
     "metadata": {},
     "output_type": "execute_result"
    }
   ],
   "source": [
    "liste_rdd.map(lambda x: x*x).take(10)"
   ]
  },
  {
   "cell_type": "markdown",
   "id": "a65ed957-f327-4016-aab8-6578538e039b",
   "metadata": {},
   "source": [
    "filter()"
   ]
  },
  {
   "cell_type": "code",
   "execution_count": 12,
   "id": "4fc82c73-0eba-4c3f-9e48-a755481624a2",
   "metadata": {},
   "outputs": [
    {
     "data": {
      "text/plain": [
       "[1, 2, 3, 4, 4, 1]"
      ]
     },
     "execution_count": 12,
     "metadata": {},
     "output_type": "execute_result"
    }
   ],
   "source": [
    "liste_rdd.filter(lambda x: x < 5).take(10)"
   ]
  },
  {
   "cell_type": "code",
   "execution_count": 13,
   "id": "c335c68e-3956-4c1f-8dc9-0ef4eac1ba76",
   "metadata": {},
   "outputs": [
    {
     "data": {
      "text/plain": [
       "[5]"
      ]
     },
     "execution_count": 13,
     "metadata": {},
     "output_type": "execute_result"
    }
   ],
   "source": [
    "liste_rdd.filter(lambda x: x == 5).take(10) #filter için önemli nokta, booleans döndürmesi gerekir! Yani True veya False demek istiyorum."
   ]
  },
  {
   "cell_type": "markdown",
   "id": "1d2990e1-c9ed-4f6d-ac59-9c9ffd03b1bf",
   "metadata": {},
   "source": [
    "flatMap"
   ]
  },
  {
   "cell_type": "code",
   "execution_count": 14,
   "id": "e11d41a4-af22-40b5-9d94-78e300a829ab",
   "metadata": {},
   "outputs": [],
   "source": [
    "metin = [\"Emel eve gel\", \"Ali ata bak\", \"Ahmet okula git\"]"
   ]
  },
  {
   "cell_type": "code",
   "execution_count": 15,
   "id": "d3193188-4b39-4f6a-b8a7-1130daa91dda",
   "metadata": {},
   "outputs": [],
   "source": [
    "metin_rdd = sc.parallelize(metin)"
   ]
  },
  {
   "cell_type": "code",
   "execution_count": 16,
   "id": "210ab4ad-7f68-48d8-b034-ff3cd8450b44",
   "metadata": {},
   "outputs": [
    {
     "data": {
      "text/plain": [
       "['Emel eve gel', 'Ali ata bak', 'Ahmet okula git']"
      ]
     },
     "execution_count": 16,
     "metadata": {},
     "output_type": "execute_result"
    }
   ],
   "source": [
    "metin_rdd.take(3)"
   ]
  },
  {
   "cell_type": "code",
   "execution_count": 17,
   "id": "0ef08d09-fcf2-4d66-a95a-c7c2c0827338",
   "metadata": {},
   "outputs": [
    {
     "data": {
      "text/plain": [
       "['EMEL EVE GEL', 'ALI ATA BAK', 'AHMET OKULA GIT']"
      ]
     },
     "execution_count": 17,
     "metadata": {},
     "output_type": "execute_result"
    }
   ],
   "source": [
    "metin_rdd.map(lambda x:x.upper()).take(3)"
   ]
  },
  {
   "cell_type": "code",
   "execution_count": 18,
   "id": "622d73df-9e09-4422-b3be-357cec464b10",
   "metadata": {},
   "outputs": [
    {
     "data": {
      "text/plain": [
       "['E', 'M', 'E']"
      ]
     },
     "execution_count": 18,
     "metadata": {},
     "output_type": "execute_result"
    }
   ],
   "source": [
    "metin_rdd.flatMap(lambda x:x.upper()).take(3)"
   ]
  },
  {
   "cell_type": "code",
   "execution_count": 20,
   "id": "26f5773f-3d76-4df6-af6e-fb587667fa86",
   "metadata": {},
   "outputs": [
    {
     "data": {
      "text/plain": [
       "['EMEL', 'EVE', 'GEL']"
      ]
     },
     "execution_count": 20,
     "metadata": {},
     "output_type": "execute_result"
    }
   ],
   "source": [
    "metin_rdd.flatMap(lambda x:x.split(\" \")).map(lambda x: x.upper()).take(3)"
   ]
  },
  {
   "cell_type": "markdown",
   "id": "2419463b-061d-42a2-ad69-8d97584cd3eb",
   "metadata": {},
   "source": [
    "distinct"
   ]
  },
  {
   "cell_type": "code",
   "execution_count": 21,
   "id": "beb463eb-0dd4-4dce-b47f-1b056950bec3",
   "metadata": {},
   "outputs": [
    {
     "data": {
      "text/plain": [
       "PythonRDD[22] at RDD at PythonRDD.scala:53"
      ]
     },
     "execution_count": 21,
     "metadata": {},
     "output_type": "execute_result"
    }
   ],
   "source": [
    "liste_rdd.distinct()"
   ]
  },
  {
   "cell_type": "code",
   "execution_count": 22,
   "id": "25d9877d-8af7-4272-94db-4f2775d17b60",
   "metadata": {},
   "outputs": [
    {
     "data": {
      "text/plain": [
       "[4, 8, 1, 5, 2, 6, 3]"
      ]
     },
     "execution_count": 22,
     "metadata": {},
     "output_type": "execute_result"
    }
   ],
   "source": [
    "liste_rdd.distinct().take(10)"
   ]
  },
  {
   "cell_type": "markdown",
   "id": "f3138a9f-ff6f-4000-b46c-b7ec323dffa2",
   "metadata": {},
   "source": [
    "sample"
   ]
  },
  {
   "cell_type": "code",
   "execution_count": 25,
   "id": "192d0f0d-821e-496d-b67c-50329542d29d",
   "metadata": {},
   "outputs": [
    {
     "data": {
      "text/plain": [
       "[3, 4, 4, 4, 5, 6, 6, 1]"
      ]
     },
     "execution_count": 25,
     "metadata": {},
     "output_type": "execute_result"
    }
   ],
   "source": [
    "liste_rdd.sample(True, 0.7, 42).take(10)"
   ]
  }
 ],
 "metadata": {
  "kernelspec": {
   "display_name": "Python 3 (ipykernel)",
   "language": "python",
   "name": "python3"
  },
  "language_info": {
   "codemirror_mode": {
    "name": "ipython",
    "version": 3
   },
   "file_extension": ".py",
   "mimetype": "text/x-python",
   "name": "python",
   "nbconvert_exporter": "python",
   "pygments_lexer": "ipython3",
   "version": "3.11.4"
  }
 },
 "nbformat": 4,
 "nbformat_minor": 5
}
