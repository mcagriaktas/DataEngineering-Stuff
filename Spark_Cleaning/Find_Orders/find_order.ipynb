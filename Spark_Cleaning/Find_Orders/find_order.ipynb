{
 "cells": [
  {
   "cell_type": "code",
   "execution_count": 1,
   "id": "d3de98c1-af83-4f66-9916-72674b25e7b0",
   "metadata": {},
   "outputs": [],
   "source": [
    "import findspark\n",
    "findspark.init(\"/opt/spark\")"
   ]
  },
  {
   "cell_type": "code",
   "execution_count": 2,
   "id": "cc8690b8-dbaf-4a1c-9ecc-2ea70339cd4c",
   "metadata": {},
   "outputs": [],
   "source": [
    "from pyspark.sql import * \n",
    "from pyspark.sql.functions import *\n",
    "from pyspark.sql.types import *\n",
    "from pyspark.sql import functions as F\n",
    "from pyspark.sql.window import Window"
   ]
  },
  {
   "cell_type": "code",
   "execution_count": 3,
   "id": "b6015eb2-3f89-4f65-a8ad-5eb34c2efe67",
   "metadata": {
    "collapsed": true,
    "jupyter": {
     "outputs_hidden": true
    }
   },
   "outputs": [
    {
     "name": "stdout",
     "output_type": "stream",
     "text": [
      ":: loading settings :: url = jar:file:/opt/spark/jars/ivy-2.5.1.jar!/org/apache/ivy/core/settings/ivysettings.xml\n"
     ]
    },
    {
     "name": "stderr",
     "output_type": "stream",
     "text": [
      "Ivy Default Cache set to: /root/.ivy2/cache\n",
      "The jars for the packages stored in: /root/.ivy2/jars\n",
      "io.delta#delta-core_2.12 added as a dependency\n",
      ":: resolving dependencies :: org.apache.spark#spark-submit-parent-2ac662d2-617a-4e9a-a21c-84a70d561bff;1.0\n",
      "\tconfs: [default]\n",
      "\tfound io.delta#delta-core_2.12;2.4.0 in central\n",
      "\tfound io.delta#delta-storage;2.4.0 in central\n",
      "\tfound org.antlr#antlr4-runtime;4.9.3 in central\n",
      ":: resolution report :: resolve 1059ms :: artifacts dl 13ms\n",
      "\t:: modules in use:\n",
      "\tio.delta#delta-core_2.12;2.4.0 from central in [default]\n",
      "\tio.delta#delta-storage;2.4.0 from central in [default]\n",
      "\torg.antlr#antlr4-runtime;4.9.3 from central in [default]\n",
      "\t---------------------------------------------------------------------\n",
      "\t|                  |            modules            ||   artifacts   |\n",
      "\t|       conf       | number| search|dwnlded|evicted|| number|dwnlded|\n",
      "\t---------------------------------------------------------------------\n",
      "\t|      default     |   3   |   0   |   0   |   0   ||   3   |   0   |\n",
      "\t---------------------------------------------------------------------\n",
      ":: retrieving :: org.apache.spark#spark-submit-parent-2ac662d2-617a-4e9a-a21c-84a70d561bff\n",
      "\tconfs: [default]\n",
      "\t0 artifacts copied, 3 already retrieved (0kB/9ms)\n",
      "23/10/11 17:22:14 WARN NativeCodeLoader: Unable to load native-hadoop library for your platform... using builtin-java classes where applicable\n",
      "Setting default log level to \"WARN\".\n",
      "To adjust logging level use sc.setLogLevel(newLevel). For SparkR, use setLogLevel(newLevel).\n"
     ]
    }
   ],
   "source": [
    "spark = SparkSession.builder \\\n",
    "    .appName(\"finding_orders\") \\\n",
    "    .master(\"local[2]\") \\\n",
    "    .config(\"spark.jars.packages\", \"io.delta:delta-core_2.12:2.4.0\") \\\n",
    "    .config(\"spark.sql.extensions\", \"io.delta.sql.DeltaSparkSessionExtension\") \\\n",
    "    .config(\"spark.sql.catalog.spark_catalog\", \"org.apache.spark.sql.delta.catalog.DeltaCatalog\").getOrCreate()"
   ]
  },
  {
   "cell_type": "code",
   "execution_count": 4,
   "id": "9060e1de-4ee2-4a68-84a5-4cc137d17137",
   "metadata": {},
   "outputs": [
    {
     "name": "stderr",
     "output_type": "stream",
     "text": [
      "                                                                                \r"
     ]
    }
   ],
   "source": [
    "df = spark.read.option(\"header\", True) \\\n",
    "    .option(\"inferSchema\", True) \\\n",
    "    .csv(\"finding_order.csv\")"
   ]
  },
  {
   "cell_type": "code",
   "execution_count": 5,
   "id": "b4df5c6d-c460-45ca-ab8d-ca50c0240441",
   "metadata": {},
   "outputs": [
    {
     "name": "stdout",
     "output_type": "stream",
     "text": [
      "+--------+-------------+-----------+-----------+---------+\n",
      "|ORDER_ID|SUBSCRIBER_ID|STATUS_DATE|STATUS_TIME|   STATUS|\n",
      "+--------+-------------+-----------+-----------+---------+\n",
      "|  100159|       200427|   20230223|      83209| ASSIGNED|\n",
      "|  100159|       200427|   20230223|      74232| RETURNED|\n",
      "|  100159|       200427|   20230222|      95056|  CREATED|\n",
      "|  100410|       200366|   20230223|      91017| ASSIGNED|\n",
      "|  100410|       200366|   20230223|      30301| RETURNED|\n",
      "|  100410|       200366|   20230222|      93638|  CREATED|\n",
      "|  100497|       200024|   20230222|     105418|     POOL|\n",
      "|  100497|       200024|   20230222|     105418|  CREATED|\n",
      "|  100539|       200012|   20230222|     112855|COMPLETED|\n",
      "|  100539|       200012|   20230222|      95408|  CREATED|\n",
      "|  100575|       200573|   20230223|      85951| ASSIGNED|\n",
      "|  100575|       200573|   20230223|      41932| RETURNED|\n",
      "|  100575|       200573|   20230222|     105441|  CREATED|\n",
      "|  100259|       200192|   20230223|      83115| ASSIGNED|\n",
      "|  100259|       200192|   20230222|      94751|  CREATED|\n",
      "|  100563|       200421|   20230223|      82133| ASSIGNED|\n",
      "|  100563|       200421|   20230223|      74734| RETURNED|\n",
      "|  100563|       200421|   20230222|      94100|  CREATED|\n",
      "|  100230|       200049|   20230222|     182650|COMPLETED|\n",
      "|  100230|       200049|   20230222|     161234| RETURNED|\n",
      "|  100230|       200049|   20230222|     105708|  CREATED|\n",
      "|  100139|       200078|   20230222|     122817|COMPLETED|\n",
      "|  100139|       200078|   20230222|      93841|  CREATED|\n",
      "|  100511|       200495|   20230222|     105514|     POOL|\n",
      "|  100511|       200495|   20230222|     105514|  CREATED|\n",
      "|  100099|       200199|   20230223|      90346| ASSIGNED|\n",
      "|  100099|       200199|   20230223|      74715| RETURNED|\n",
      "|  100099|       200199|   20230222|      94123|  CREATED|\n",
      "|  100399|       200373|   20230221|     190801|COMPLETED|\n",
      "|  100399|       200373|   20230221|     163800|  CREATED|\n",
      "|  100188|       200156|   20230222|     165422|COMPLETED|\n",
      "|  100188|       200156|   20230222|     151355| RETURNED|\n",
      "|  100188|       200156|   20230221|     163807|  CREATED|\n",
      "|  100492|       200344|   20230223|      90159| ASSIGNED|\n",
      "|  100492|       200344|   20230223|      74715| RETURNED|\n",
      "|  100492|       200344|   20230222|      95347|  CREATED|\n",
      "|  100483|       200338|   20230223|      82229| ASSIGNED|\n",
      "|  100483|       200338|   20230223|      74440| RETURNED|\n",
      "|  100483|       200338|   20230222|     105357|  CREATED|\n",
      "|  100288|       200330|   20230221|     171258|COMPLETED|\n",
      "|  100288|       200330|   20230221|     161205|  CREATED|\n",
      "|  100439|       200218|   20230223|      91144| ASSIGNED|\n",
      "|  100439|       200218|   20230223|      41932| RETURNED|\n",
      "|  100439|       200218|   20230222|      95510|  CREATED|\n",
      "|  100077|       200284|   20230222|     165216|COMPLETED|\n",
      "|  100077|       200284|   20230222|     151355| RETURNED|\n",
      "|  100077|       200284|   20230222|      94646|  CREATED|\n",
      "|  100165|       200031|   20230222|     223458|COMPLETED|\n",
      "|  100165|       200031|   20230222|     165502| RETURNED|\n",
      "|  100165|       200031|   20230222|     105740|  CREATED|\n",
      "+--------+-------------+-----------+-----------+---------+\n",
      "only showing top 50 rows\n",
      "\n"
     ]
    }
   ],
   "source": [
    "df.show(50)"
   ]
  },
  {
   "cell_type": "markdown",
   "id": "70c42d2d-cfaa-4380-ac86-d61d5e794e1c",
   "metadata": {},
   "source": [
    "## First try"
   ]
  },
  {
   "cell_type": "code",
   "execution_count": 6,
   "id": "1e829075-9749-42d8-a284-3dc93c022c87",
   "metadata": {},
   "outputs": [],
   "source": [
    "df.createOrReplaceTempView(\"table\")"
   ]
  },
  {
   "cell_type": "code",
   "execution_count": 7,
   "id": "90ea368d-2e8e-47ad-9161-a7e447914ba6",
   "metadata": {},
   "outputs": [
    {
     "name": "stdout",
     "output_type": "stream",
     "text": [
      "+--------+-------------+--------+-------------------+\n",
      "|ORDER_ID|SUBSCRIBER_ID|  STATUS|         START_DATE|\n",
      "+--------+-------------+--------+-------------------+\n",
      "|  100159|       200427|ASSIGNED|2023-02-23 23:06:49|\n",
      "|  100159|       200427|RETURNED|2023-02-23 20:37:12|\n",
      "|  100159|       200427| CREATED|2023-02-22 02:24:16|\n",
      "|  100410|       200366|ASSIGNED|2023-02-23 01:16:57|\n",
      "|  100410|       200366|RETURNED|2023-02-23 08:25:01|\n",
      "+--------+-------------+--------+-------------------+\n",
      "only showing top 5 rows\n",
      "\n"
     ]
    }
   ],
   "source": [
    "sqldf = spark.sql(\"\"\"\n",
    "SELECT \n",
    "    ORDER_ID,\n",
    "    SUBSCRIBER_ID,\n",
    "    STATUS,\n",
    "    CONCAT(DATE_FORMAT(TO_DATE(CAST(STATUS_DATE AS STRING), 'yyyyMMdd'), 'yyyy-MM-dd'),\n",
    "        ' ', FROM_UNIXTIME(STATUS_TIME, 'HH:mm:ss')) AS START_DATE\n",
    "FROM table \n",
    "\"\"\")\n",
    "\n",
    "sqldf.show(5)"
   ]
  },
  {
   "cell_type": "code",
   "execution_count": 8,
   "id": "5645885c-9079-46bf-b0f2-1a928798feee",
   "metadata": {},
   "outputs": [],
   "source": [
    "sqldf.createOrReplaceTempView(\"table1\")"
   ]
  },
  {
   "cell_type": "code",
   "execution_count": 9,
   "id": "9ccbb4e4-c6fc-4c2a-b1cd-94234d712608",
   "metadata": {},
   "outputs": [
    {
     "name": "stderr",
     "output_type": "stream",
     "text": [
      "[Stage 6:>                                                          (0 + 1) / 1]\r"
     ]
    },
    {
     "name": "stdout",
     "output_type": "stream",
     "text": [
      "+--------+-------------+---------+-------------------+-------------------+--------+\n",
      "|ORDER_ID|SUBSCRIBER_ID|   STATUS|         START_DATE|           END_DATE|DURATION|\n",
      "+--------+-------------+---------+-------------------+-------------------+--------+\n",
      "|  100001|       200574| ASSIGNED|2023-02-22 02:28:26|               null|       0|\n",
      "|  100002|       200121|  CREATED|2023-02-22 02:01:52|               null|       0|\n",
      "|  100003|       200432| ASSIGNED|2023-02-22 02:06:41|               null|       0|\n",
      "|  100004|       200234|COMPLETED|2023-02-22 02:02:38|2023-02-22 05:00:26|    2.57|\n",
      "|  100005|       200546|  CREATED|2023-02-22 02:18:47|               null|       0|\n",
      "|  100006|       200369| ASSIGNED|2023-02-22 05:16:53|               null|       0|\n",
      "|  100007|       200486| ASSIGNED|2023-02-22 05:17:28|               null|       0|\n",
      "|  100008|       200190| ASSIGNED|2023-02-22 02:12:11|               null|       0|\n",
      "|  100009|       200058|COMPLETED|2023-02-22 02:22:31|2023-02-22 06:19:08|    3.56|\n",
      "|  100010|       200253|COMPLETED|2023-02-22 02:11:41|2023-02-22 09:32:05|    7.20|\n",
      "|  100011|       200207| ASSIGNED|2023-02-22 05:20:06|               null|       0|\n",
      "|  100012|       200534|COMPLETED|2023-02-22 02:22:07|2023-02-22 21:07:14|   18.45|\n",
      "|  100013|       200494|COMPLETED|2023-02-22 02:08:54|2023-02-22 16:51:59|   14.43|\n",
      "|  100014|       200062|COMPLETED|2023-02-22 02:23:51|2023-02-22 14:44:18|   12.20|\n",
      "|  100015|       200370|COMPLETED|2023-02-22 02:10:46|2023-02-22 04:55:22|    2.44|\n",
      "|  100016|       200482|  CREATED|2023-02-22 02:13:21|               null|       0|\n",
      "|  100017|       200096|COMPLETED|2023-02-22 02:15:41|2023-02-22 15:12:00|   12.56|\n",
      "|  100018|       200582|COMPLETED|2023-02-21 21:28:43|2023-02-22 21:56:44|   24.28|\n",
      "|  100019|       200304| ASSIGNED|2023-02-22 05:21:42|               null|       0|\n",
      "|  100020|       200050|COMPLETED|2023-02-22 05:14:13|2023-02-22 13:52:21|    8.38|\n",
      "|  100021|       200264| ASSIGNED|2023-02-22 02:12:06|               null|       0|\n",
      "|  100022|       200081|COMPLETED|2023-02-22 02:10:23|2023-02-22 13:22:34|   11.12|\n",
      "|  100023|       200310|COMPLETED|2023-02-22 05:22:02|2023-02-23 03:07:09|   21.45|\n",
      "|  100024|       200537|COMPLETED|2023-02-22 05:20:50|2023-02-22 12:13:44|    6.52|\n",
      "|  100025|       200201| ASSIGNED|2023-02-22 05:15:11|               null|       0|\n",
      "+--------+-------------+---------+-------------------+-------------------+--------+\n",
      "only showing top 25 rows\n",
      "\n"
     ]
    },
    {
     "name": "stderr",
     "output_type": "stream",
     "text": [
      "                                                                                \r"
     ]
    }
   ],
   "source": [
    "sqldf2 = spark.sql(\"\"\"\n",
    "WITH cap AS (\n",
    "  SELECT\n",
    "    ORDER_ID,\n",
    "    SUBSCRIBER_ID,\n",
    "    STATUS,\n",
    "    CASE\n",
    "        WHEN STATUS IN ('CREATED', 'POOL') THEN START_DATE\n",
    "    END AS START_DATE,\n",
    "    CASE\n",
    "        WHEN STATUS IN ('COMPLETED', 'CANCELLED') THEN START_DATE\n",
    "    END AS END_DATE\n",
    "  FROM table1\n",
    ")\n",
    "SELECT \n",
    "    ORDER_ID,\n",
    "    SUBSCRIBER_ID,\n",
    "    MIN(STATUS) AS STATUS,\n",
    "    MIN(START_DATE) AS START_DATE,\n",
    "    MAX(END_DATE) AS END_DATE,\n",
    "    CASE\n",
    "        WHEN MAX(END_DATE) IS NOT NULL THEN\n",
    "            CONCAT(\n",
    "                TIMESTAMPDIFF(HOUR, MAX(START_DATE), MAX(END_DATE)), '.',\n",
    "                LPAD(TIMESTAMPDIFF(MINUTE, MAX(START_DATE), MAX(END_DATE)) % 60, 2, '0')\n",
    "                  )\n",
    "        ELSE 0\n",
    "    END AS DURATION\n",
    "FROM cap\n",
    "GROUP BY ORDER_ID, SUBSCRIBER_ID\n",
    "\"\"\")\n",
    "\n",
    "sqldf2.show(25)"
   ]
  },
  {
   "cell_type": "code",
   "execution_count": null,
   "id": "080a06f5-dc4e-4d45-8062-9a34c944f979",
   "metadata": {},
   "outputs": [],
   "source": []
  }
 ],
 "metadata": {
  "kernelspec": {
   "display_name": "Python 3 (ipykernel)",
   "language": "python",
   "name": "python3"
  },
  "language_info": {
   "codemirror_mode": {
    "name": "ipython",
    "version": 3
   },
   "file_extension": ".py",
   "mimetype": "text/x-python",
   "name": "python",
   "nbconvert_exporter": "python",
   "pygments_lexer": "ipython3",
   "version": "3.8.18"
  }
 },
 "nbformat": 4,
 "nbformat_minor": 5
}
