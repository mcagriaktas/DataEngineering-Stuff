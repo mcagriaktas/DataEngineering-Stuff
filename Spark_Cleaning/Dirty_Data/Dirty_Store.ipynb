{
 "cells": [
  {
   "cell_type": "markdown",
   "id": "8c4422e1-a1c3-4d3a-9169-1b4f349e61a5",
   "metadata": {
    "tags": []
   },
   "source": [
    "## Main input"
   ]
  },
  {
   "cell_type": "code",
   "execution_count": 1,
   "id": "2d5a3198-9de1-4baa-867e-7ba205632a21",
   "metadata": {},
   "outputs": [],
   "source": [
    "import findspark\n",
    "findspark.init(\"/opt/spark\")\n",
    "from pyspark.sql import * \n",
    "from pyspark.sql.functions import *\n",
    "from pyspark.sql.types import *"
   ]
  },
  {
   "cell_type": "code",
   "execution_count": 2,
   "id": "1794b158-3ad0-40bb-8be4-486c7786f6ff",
   "metadata": {},
   "outputs": [],
   "source": [
    "spark = SparkSession.builder \\\n",
    "    .appName(\"CleanData\") \\\n",
    "    .master(\"local[2]\") \\\n",
    "    .config(\"spark.jars.packages\", \"io.delta:delta-core_2.12:2.4.0\") \\\n",
    "    .config(\"spark.sql.extensions\", \"io.delta.sql.DeltaSparkSessionExtension\") \\\n",
    "    .config(\"spark.sql.catalog.spark_catalog\", \"org.apache.spark.sql.delta.catalog.DeltaCatalog\") \\\n",
    "    .getOrCreate()"
   ]
  },
  {
   "cell_type": "code",
   "execution_count": 3,
   "id": "85b94771-dd4c-4347-8e00-f1cb1083a5fd",
   "metadata": {},
   "outputs": [],
   "source": [
    "#!wget https://github.com/erkansirin78/datasets/raw/master/dirty_store_transactions.csv"
   ]
  },
  {
   "cell_type": "code",
   "execution_count": 4,
   "id": "ccdc3085-abb6-44e7-ad8b-61ced0237891",
   "metadata": {},
   "outputs": [],
   "source": [
    "df = spark.read.option(\"header\", True) \\\n",
    "    .option(\"inferSchema\", True) \\\n",
    "    .csv(\"dirty_store.csv\")"
   ]
  },
  {
   "cell_type": "code",
   "execution_count": 5,
   "id": "70519ab0-d532-4af3-a8fc-5826bedf2427",
   "metadata": {},
   "outputs": [
    {
     "data": {
      "text/html": [
       "<div>\n",
       "<style scoped>\n",
       "    .dataframe tbody tr th:only-of-type {\n",
       "        vertical-align: middle;\n",
       "    }\n",
       "\n",
       "    .dataframe tbody tr th {\n",
       "        vertical-align: top;\n",
       "    }\n",
       "\n",
       "    .dataframe thead th {\n",
       "        text-align: right;\n",
       "    }\n",
       "</style>\n",
       "<table border=\"1\" class=\"dataframe\">\n",
       "  <thead>\n",
       "    <tr style=\"text-align: right;\">\n",
       "      <th></th>\n",
       "      <th>STORE_ID</th>\n",
       "      <th>STORE_LOCATION</th>\n",
       "      <th>PRODUCT_CATEGORY</th>\n",
       "      <th>PRODUCT_ID</th>\n",
       "      <th>MRP</th>\n",
       "      <th>CP</th>\n",
       "      <th>DISCOUNT</th>\n",
       "      <th>SP</th>\n",
       "      <th>Date</th>\n",
       "    </tr>\n",
       "  </thead>\n",
       "  <tbody>\n",
       "    <tr>\n",
       "      <th>0</th>\n",
       "      <td>YR7220</td>\n",
       "      <td>New York(</td>\n",
       "      <td>Electronics</td>\n",
       "      <td>12254943</td>\n",
       "      <td>$31</td>\n",
       "      <td>$20.77</td>\n",
       "      <td>$1.86</td>\n",
       "      <td>$29.14</td>\n",
       "      <td>2019-11-26</td>\n",
       "    </tr>\n",
       "    <tr>\n",
       "      <th>1</th>\n",
       "      <td>YR7220</td>\n",
       "      <td>New York+</td>\n",
       "      <td>Furniture</td>\n",
       "      <td>72619323C</td>\n",
       "      <td>$15</td>\n",
       "      <td>$9.75</td>\n",
       "      <td>$1.5</td>\n",
       "      <td>$13.5</td>\n",
       "      <td>2019-11-26</td>\n",
       "    </tr>\n",
       "    <tr>\n",
       "      <th>2</th>\n",
       "      <td>YR7220</td>\n",
       "      <td>New York</td>\n",
       "      <td>Electronics</td>\n",
       "      <td>34161682B</td>\n",
       "      <td>$88</td>\n",
       "      <td>$62.48</td>\n",
       "      <td>$4.4</td>\n",
       "      <td>$83.6</td>\n",
       "      <td>2019-11-26</td>\n",
       "    </tr>\n",
       "    <tr>\n",
       "      <th>3</th>\n",
       "      <td>YR7220</td>\n",
       "      <td>New York!</td>\n",
       "      <td>Kitchen</td>\n",
       "      <td>79411621</td>\n",
       "      <td>$91</td>\n",
       "      <td>$58.24</td>\n",
       "      <td>$3.64</td>\n",
       "      <td>$87.36</td>\n",
       "      <td>2019-11-26</td>\n",
       "    </tr>\n",
       "    <tr>\n",
       "      <th>4</th>\n",
       "      <td>YR7220</td>\n",
       "      <td>New York</td>\n",
       "      <td>Fashion</td>\n",
       "      <td>39520263T</td>\n",
       "      <td>$85</td>\n",
       "      <td>$51</td>\n",
       "      <td>$2.55</td>\n",
       "      <td>$82.45</td>\n",
       "      <td>2019-11-26</td>\n",
       "    </tr>\n",
       "  </tbody>\n",
       "</table>\n",
       "</div>"
      ],
      "text/plain": [
       "  STORE_ID STORE_LOCATION PRODUCT_CATEGORY PRODUCT_ID  MRP      CP DISCOUNT  \\\n",
       "0   YR7220      New York(      Electronics   12254943  $31  $20.77    $1.86   \n",
       "1   YR7220      New York+        Furniture  72619323C  $15   $9.75     $1.5   \n",
       "2   YR7220      New York       Electronics  34161682B  $88  $62.48     $4.4   \n",
       "3   YR7220      New York!          Kitchen   79411621  $91  $58.24    $3.64   \n",
       "4   YR7220       New York          Fashion  39520263T  $85     $51    $2.55   \n",
       "\n",
       "       SP        Date  \n",
       "0  $29.14  2019-11-26  \n",
       "1   $13.5  2019-11-26  \n",
       "2   $83.6  2019-11-26  \n",
       "3  $87.36  2019-11-26  \n",
       "4  $82.45  2019-11-26  "
      ]
     },
     "execution_count": 5,
     "metadata": {},
     "output_type": "execute_result"
    }
   ],
   "source": [
    "df.limit(5).toPandas()"
   ]
  },
  {
   "cell_type": "code",
   "execution_count": 6,
   "id": "2ac31003-d2bf-46f8-9b14-4f4f2c397449",
   "metadata": {},
   "outputs": [
    {
     "name": "stdout",
     "output_type": "stream",
     "text": [
      "root\n",
      " |-- STORE_ID: string (nullable = true)\n",
      " |-- STORE_LOCATION: string (nullable = true)\n",
      " |-- PRODUCT_CATEGORY: string (nullable = true)\n",
      " |-- PRODUCT_ID: string (nullable = true)\n",
      " |-- MRP: string (nullable = true)\n",
      " |-- CP: string (nullable = true)\n",
      " |-- DISCOUNT: string (nullable = true)\n",
      " |-- SP: string (nullable = true)\n",
      " |-- Date: date (nullable = true)\n",
      "\n",
      "Rows: 37853 Columns: 9\n"
     ]
    }
   ],
   "source": [
    "df.printSchema()\n",
    "print(\"Rows:\", df.count(), \"Columns:\", len(df.columns))"
   ]
  },
  {
   "cell_type": "markdown",
   "id": "4de2c6f4-df7a-41bd-8e78-f8467102f262",
   "metadata": {
    "tags": []
   },
   "source": [
    "## DATA CLEANING PySparkSQL"
   ]
  },
  {
   "cell_type": "code",
   "execution_count": 7,
   "id": "fb1eaadb-772c-44ec-aee3-0ff32b59275f",
   "metadata": {},
   "outputs": [],
   "source": [
    "df.createOrReplaceTempView(\"table\")"
   ]
  },
  {
   "cell_type": "code",
   "execution_count": 8,
   "id": "880a9d55-0fda-449b-b73b-02e4e69cf390",
   "metadata": {},
   "outputs": [],
   "source": [
    "# I can't use \"where mrp > 0\" because mrp, cp, discount and sp's datatype is not numeric! Therefor sql can't return the table!\n",
    "sqldf = spark.sql(\"\"\"\n",
    "SELECT\n",
    "  TRIM(STORE_ID) AS STORE_ID,\n",
    "  TRIM(REGEXP_REPLACE(STORE_LOCATION, '[^a-zA-Z0-9 ]', '')) AS STORE_LOCATION,\n",
    "  TRIM(PRODUCT_CATEGORY) AS PRODUCT_CATEGORY,\n",
    "  TRIM(PRODUCT_ID) AS PRODUCT_ID,\n",
    "  CAST(TRIM(SUBSTRING(MRP, 2, 6)) AS INTEGER) AS MRP,\n",
    "  ROUND(CAST(TRIM(SUBSTRING(CP, 2, 6)) AS FLOAT), 2) AS CP,\n",
    "  CAST(TRIM(SUBSTRING(DISCOUNT, 2, 6)) AS FLOAT) AS DISCOUNT,\n",
    "  ROUND(CAST(TRIM(SUBSTRING(SP, 2, 6)) AS FLOAT), 2) AS SP,\n",
    "  CAST(TRIM(DATE) AS DATE) AS DATE\n",
    "FROM table\n",
    "\"\"\")"
   ]
  },
  {
   "cell_type": "code",
   "execution_count": 9,
   "id": "47437d45-bced-48d7-9c51-36c5ce5dff5f",
   "metadata": {
    "tags": []
   },
   "outputs": [
    {
     "name": "stdout",
     "output_type": "stream",
     "text": [
      "+--------+--------------+----------------+----------+---+-----+--------+-----+----------+\n",
      "|STORE_ID|STORE_LOCATION|PRODUCT_CATEGORY|PRODUCT_ID|MRP|   CP|DISCOUNT|   SP|      DATE|\n",
      "+--------+--------------+----------------+----------+---+-----+--------+-----+----------+\n",
      "|  YR7220|      New York|     Electronics|  12254943| 31|20.77|    1.86|29.14|2019-11-26|\n",
      "|  YR7220|      New York|       Furniture| 72619323C| 15| 9.75|     1.5| 13.5|2019-11-26|\n",
      "|  YR7220|      New York|     Electronics| 34161682B| 88|62.48|     4.4| 83.6|2019-11-26|\n",
      "|  YR7220|      New York|         Kitchen|  79411621| 91|58.24|    3.64|87.36|2019-11-26|\n",
      "|  YR7220|      New York|         Fashion| 39520263T| 85| 51.0|    2.55|82.45|2019-11-26|\n",
      "+--------+--------------+----------------+----------+---+-----+--------+-----+----------+\n",
      "only showing top 5 rows\n",
      "\n"
     ]
    }
   ],
   "source": [
    "sqldf.show(5)"
   ]
  },
  {
   "cell_type": "code",
   "execution_count": 10,
   "id": "8ddb8929-7800-4f6c-b7eb-2cd965582b8e",
   "metadata": {
    "tags": []
   },
   "outputs": [
    {
     "name": "stdout",
     "output_type": "stream",
     "text": [
      "root\n",
      " |-- STORE_ID: string (nullable = true)\n",
      " |-- STORE_LOCATION: string (nullable = true)\n",
      " |-- PRODUCT_CATEGORY: string (nullable = true)\n",
      " |-- PRODUCT_ID: string (nullable = true)\n",
      " |-- MRP: integer (nullable = true)\n",
      " |-- CP: float (nullable = true)\n",
      " |-- DISCOUNT: float (nullable = true)\n",
      " |-- SP: float (nullable = true)\n",
      " |-- DATE: date (nullable = true)\n",
      "\n"
     ]
    }
   ],
   "source": [
    "sqldf.printSchema()"
   ]
  },
  {
   "cell_type": "code",
   "execution_count": 11,
   "id": "049dcc47-4767-4513-8b8e-9e40ca67d3ee",
   "metadata": {},
   "outputs": [],
   "source": [
    "sqldf.createOrReplaceTempView(\"clean_table\")"
   ]
  },
  {
   "cell_type": "code",
   "execution_count": 12,
   "id": "3321157f-a758-4b39-a0e7-237d80f01b20",
   "metadata": {
    "tags": []
   },
   "outputs": [
    {
     "name": "stdout",
     "output_type": "stream",
     "text": [
      "Rows: 37853 Columns: 9\n",
      "Rows: 37853 Columns: 9\n"
     ]
    }
   ],
   "source": [
    "# Round method is not working on toPandas(), if you want to fix that, try to use show()\n",
    "# Ps: I did not use \" REGEXP_REPLACE(PRODUCT_ID, '[^0-9]', '') AS PRODUCT_LOCATION \" in pyspark.sql\n",
    "# because when you want to change a column in pyspark.sql, you must add every columns' name in SELECT statement!\n",
    "\n",
    "print(\"Rows:\", sqldf.count(), \"Columns:\", len(sqldf.columns))\n",
    "\n",
    "sqldf_clean = spark.sql(\"\"\"\n",
    "SELECT \n",
    "    * \n",
    "FROM clean_table\n",
    "WHERE\n",
    "    (MRP > 0) OR (CP > 0) OR (DISCOUNT > 0) OR (SP > 0)\n",
    "\"\"\")\n",
    "\n",
    "sqldf_clean = sqldf.withColumn(\"PRODUCT_ID\", regexp_replace(col(\"PRODUCT_ID\"), \"[^0-9]\", \"\").cast(IntegerType()))\n",
    "\n",
    "print(\"Rows:\", sqldf_clean.count(), \"Columns:\", len(sqldf_clean.columns))"
   ]
  },
  {
   "cell_type": "code",
   "execution_count": 13,
   "id": "654ad460-5814-4fa9-b3fb-3fa5fd14ec33",
   "metadata": {},
   "outputs": [
    {
     "name": "stdout",
     "output_type": "stream",
     "text": [
      "+--------+--------------+----------------+----------+---+-----+--------+-----+----------+\n",
      "|STORE_ID|STORE_LOCATION|PRODUCT_CATEGORY|PRODUCT_ID|MRP|   CP|DISCOUNT|   SP|      DATE|\n",
      "+--------+--------------+----------------+----------+---+-----+--------+-----+----------+\n",
      "|  YR7220|      New York|     Electronics|  12254943| 31|20.77|    1.86|29.14|2019-11-26|\n",
      "|  YR7220|      New York|       Furniture|  72619323| 15| 9.75|     1.5| 13.5|2019-11-26|\n",
      "|  YR7220|      New York|     Electronics|  34161682| 88|62.48|     4.4| 83.6|2019-11-26|\n",
      "|  YR7220|      New York|         Kitchen|  79411621| 91|58.24|    3.64|87.36|2019-11-26|\n",
      "|  YR7220|      New York|         Fashion|  39520263| 85| 51.0|    2.55|82.45|2019-11-26|\n",
      "+--------+--------------+----------------+----------+---+-----+--------+-----+----------+\n",
      "only showing top 5 rows\n",
      "\n"
     ]
    }
   ],
   "source": [
    "sqldf_clean.createOrReplaceTempView(\"clean_table_2\")\n",
    "\n",
    "spark.sql(\"\"\"\n",
    "SELECT * FROM clean_table_2\n",
    "\"\"\").show(5)"
   ]
  },
  {
   "cell_type": "code",
   "execution_count": 14,
   "id": "c90ec12e-bbfc-4949-a2ac-7126d435868a",
   "metadata": {
    "tags": []
   },
   "outputs": [
    {
     "name": "stdout",
     "output_type": "stream",
     "text": [
      "root\n",
      " |-- STORE_ID: string (nullable = true)\n",
      " |-- STORE_LOCATION: string (nullable = true)\n",
      " |-- PRODUCT_CATEGORY: string (nullable = true)\n",
      " |-- PRODUCT_ID: integer (nullable = true)\n",
      " |-- MRP: integer (nullable = true)\n",
      " |-- CP: float (nullable = true)\n",
      " |-- DISCOUNT: float (nullable = true)\n",
      " |-- SP: float (nullable = true)\n",
      " |-- DATE: date (nullable = true)\n",
      "\n"
     ]
    }
   ],
   "source": [
    "sqldf_clean.printSchema()"
   ]
  },
  {
   "cell_type": "markdown",
   "id": "0087c88b-bb7e-4256-8eb9-d29a1c2d2783",
   "metadata": {
    "tags": []
   },
   "source": [
    "## DATA CLEANING PySpark DataFrame"
   ]
  },
  {
   "cell_type": "code",
   "execution_count": 15,
   "id": "bfda6352-30d4-4b90-9561-ac721619fffd",
   "metadata": {},
   "outputs": [
    {
     "name": "stdout",
     "output_type": "stream",
     "text": [
      "+--------+--------------+----------------+----------+---+-----+--------+-----+----------+\n",
      "|STORE_ID|STORE_LOCATION|PRODUCT_CATEGORY|PRODUCT_ID|MRP|   CP|DISCOUNT|   SP|      DATE|\n",
      "+--------+--------------+----------------+----------+---+-----+--------+-----+----------+\n",
      "|  YR7220|      New York|     Electronics|  12254943| 31|20.77|    1.86|29.14|2019-11-26|\n",
      "|  YR7220|      New York|       Furniture| 72619323C| 15| 9.75|     1.5| 13.5|2019-11-26|\n",
      "|  YR7220|      New York|     Electronics| 34161682B| 88|62.48|     4.4| 83.6|2019-11-26|\n",
      "|  YR7220|      New York|         Kitchen|  79411621| 91|58.24|    3.64|87.36|2019-11-26|\n",
      "|  YR7220|      New York|         Fashion| 39520263T| 85| 51.0|    2.55|82.45|2019-11-26|\n",
      "+--------+--------------+----------------+----------+---+-----+--------+-----+----------+\n",
      "only showing top 5 rows\n",
      "\n"
     ]
    }
   ],
   "source": [
    "from pyspark.sql.functions import *\n",
    "from pyspark.sql.types import *\n",
    "\n",
    "#str abject has no attribute 'alias'\n",
    "cleaned_df = df.select(\n",
    "    trim(col(\"STORE_ID\")).alias(\"STORE_ID\"),\n",
    "    trim(regexp_replace(col(\"STORE_LOCATION\"), \"[^a-zA-Z0-9 ]\", \"\")).alias(\"STORE_LOCATION\"),\n",
    "    trim(col(\"PRODUCT_CATEGORY\")).alias(\"PRODUCT_CATEGORY\"),\n",
    "    trim(regexp_replace(col(\"PRODUCT_ID\"), \"[^a-zA-Z0-9 ]\", \"\")).alias(\"PRODUCT_ID\"),\n",
    "    trim(col(\"MRP\")).substr(2, 6).cast(IntegerType()).alias(\"MRP\"),\n",
    "    round(substring(trim(col(\"CP\")), 2, 6).cast(FloatType()), 2).alias(\"CP\"),\n",
    "    round(substring(trim(col(\"DISCOUNT\")), 2, 6).cast(FloatType()), 2).alias(\"DISCOUNT\"),\n",
    "    round(substring(trim(col(\"SP\")), 2, 6).cast(FloatType()), 2).alias(\"SP\"),\n",
    "    col(\"Date\").cast(DateType()).alias(\"DATE\")\n",
    ")\n",
    "\n",
    "cleaned_df.show(5)"
   ]
  },
  {
   "cell_type": "code",
   "execution_count": 16,
   "id": "50f6057e-cce9-4e27-ace7-dcfb21f205c2",
   "metadata": {},
   "outputs": [
    {
     "name": "stdout",
     "output_type": "stream",
     "text": [
      "Rows: 37853 Columns: 9\n",
      "Rows: 37853 Columns: 9\n"
     ]
    }
   ],
   "source": [
    "print(\"Rows:\", cleaned_df.count(), \"Columns:\", len(cleaned_df.columns))\n",
    "\n",
    "conditions = (\n",
    "    (col(\"MRP\") > 0) &\n",
    "    (col(\"CP\") > 0) &\n",
    "    (col(\"DISCOUNT\") > 0) &\n",
    "    (col(\"SP\") > 0))\n",
    "    \n",
    "cleaned_df_2 = cleaned_df.filter(conditions)\n",
    "cleaned_df_2 = cleaned_df.withColumn(\"PRODUCT_ID\", regexp_replace(col(\"PRODUCT_ID\"), \"[^0-9]\", \"\").cast(FloatType()))\n",
    "\n",
    "print(\"Rows:\", cleaned_df_2.count(), \"Columns:\", len(cleaned_df_2.columns))"
   ]
  },
  {
   "cell_type": "code",
   "execution_count": 17,
   "id": "49ec2ee0-7ef6-49d4-99fc-c7c054e9f201",
   "metadata": {},
   "outputs": [
    {
     "name": "stdout",
     "output_type": "stream",
     "text": [
      "+----------+------------------------------------------------------+\n",
      "|PRODUCT_ID|CAST(regexp_replace(PRODUCT_ID, [^0-9], , 1) AS FLOAT)|\n",
      "+----------+------------------------------------------------------+\n",
      "|  12254943|                                           1.2254943E7|\n",
      "| 72619323C|                                            7.261932E7|\n",
      "| 34161682B|                                            3.416168E7|\n",
      "|  79411621|                                           7.9411624E7|\n",
      "| 39520263T|                                           3.9520264E7|\n",
      "+----------+------------------------------------------------------+\n",
      "only showing top 5 rows\n",
      "\n"
     ]
    }
   ],
   "source": [
    "# PS: The \"withColumn\" method is used to create a new DataFrame by adding a new column or replacing an existing \n",
    "# column with a modified version. \n",
    "# The \"Select\" method returns a new DataFrame that includes only the specified columns.\n",
    "# Therefor we used \"withColumn\" for modification!\n",
    "\n",
    "cleaned_df_2_select = cleaned_df.select(\"PRODUCT_ID\", regexp_replace(col(\"PRODUCT_ID\"), \"[^0-9]\", \"\").cast(FloatType()))\n",
    "cleaned_df_2_select.show(5)"
   ]
  },
  {
   "cell_type": "code",
   "execution_count": 18,
   "id": "f71779da-7508-4862-90ee-9bb8ae3913c9",
   "metadata": {},
   "outputs": [
    {
     "name": "stdout",
     "output_type": "stream",
     "text": [
      "+--------+--------------+----------------+----------+---+-----+--------+-----+----------+\n",
      "|STORE_ID|STORE_LOCATION|PRODUCT_CATEGORY|PRODUCT_ID|MRP|   CP|DISCOUNT|   SP|      DATE|\n",
      "+--------+--------------+----------------+----------+---+-----+--------+-----+----------+\n",
      "|  YR7220|      New York|     Electronics|  12254943| 31|20.77|    1.86|29.14|2019-11-26|\n",
      "|  YR7220|      New York|       Furniture| 72619323C| 15| 9.75|     1.5| 13.5|2019-11-26|\n",
      "|  YR7220|      New York|     Electronics| 34161682B| 88|62.48|     4.4| 83.6|2019-11-26|\n",
      "|  YR7220|      New York|         Kitchen|  79411621| 91|58.24|    3.64|87.36|2019-11-26|\n",
      "|  YR7220|      New York|         Fashion| 39520263T| 85| 51.0|    2.55|82.45|2019-11-26|\n",
      "+--------+--------------+----------------+----------+---+-----+--------+-----+----------+\n",
      "only showing top 5 rows\n",
      "\n"
     ]
    }
   ],
   "source": [
    "cleaned_df.show(5)"
   ]
  },
  {
   "cell_type": "code",
   "execution_count": 19,
   "id": "20714968-e70c-42c7-bd0d-b3cfde71b93c",
   "metadata": {},
   "outputs": [
    {
     "name": "stdout",
     "output_type": "stream",
     "text": [
      "root\n",
      " |-- STORE_ID: string (nullable = true)\n",
      " |-- STORE_LOCATION: string (nullable = true)\n",
      " |-- PRODUCT_CATEGORY: string (nullable = true)\n",
      " |-- PRODUCT_ID: float (nullable = true)\n",
      " |-- MRP: integer (nullable = true)\n",
      " |-- CP: float (nullable = true)\n",
      " |-- DISCOUNT: float (nullable = true)\n",
      " |-- SP: float (nullable = true)\n",
      " |-- DATE: date (nullable = true)\n",
      "\n"
     ]
    }
   ],
   "source": [
    "cleaned_df_2.printSchema()"
   ]
  },
  {
   "cell_type": "markdown",
   "id": "32ec67e8-d07f-413a-84a6-e2a610f6d630",
   "metadata": {
    "tags": []
   },
   "source": [
    "## Write parquet and orc"
   ]
  },
  {
   "cell_type": "code",
   "execution_count": 20,
   "id": "76eac2cf-b19d-4367-a92d-9f683e36b89b",
   "metadata": {},
   "outputs": [],
   "source": [
    "# Write to other format but becareful for \"overwrite\" because the method is clear in folder."
   ]
  },
  {
   "cell_type": "code",
   "execution_count": 28,
   "id": "6636332d-0062-4bed-8442-afe082f6a4ff",
   "metadata": {},
   "outputs": [],
   "source": [
    "#sqldf_clean.write.mode(\"overwrite\").orc(\"spark_output_format/orc\")"
   ]
  },
  {
   "cell_type": "code",
   "execution_count": 29,
   "id": "7410cbc8-db38-400f-91e7-4bf09267feaa",
   "metadata": {},
   "outputs": [],
   "source": [
    "#sqldf_clean.write.mode(\"overwrite\").parquet(\"spark_output_format/parquet\")"
   ]
  },
  {
   "cell_type": "markdown",
   "id": "c5f0b7a1-1c78-4e0e-a6b9-2b14250c55df",
   "metadata": {
    "tags": []
   },
   "source": [
    "## Read parquet and orc"
   ]
  },
  {
   "cell_type": "code",
   "execution_count": 30,
   "id": "2845b4eb-7b14-44ce-9ee5-854106b50da9",
   "metadata": {},
   "outputs": [
    {
     "name": "stdout",
     "output_type": "stream",
     "text": [
      "+--------+--------------+----------------+----------+---+-----+--------+-----+----------+\n",
      "|STORE_ID|STORE_LOCATION|PRODUCT_CATEGORY|PRODUCT_ID|MRP|   CP|DISCOUNT|   SP|      DATE|\n",
      "+--------+--------------+----------------+----------+---+-----+--------+-----+----------+\n",
      "|  YR7220|      New York|     Electronics|  12254943| 31|20.77|    1.86|29.14|2019-11-26|\n",
      "|  YR7220|      New York|       Furniture|  72619323| 15| 9.75|     1.5| 13.5|2019-11-26|\n",
      "|  YR7220|      New York|     Electronics|  34161682| 88|62.48|     4.4| 83.6|2019-11-26|\n",
      "|  YR7220|      New York|         Kitchen|  79411621| 91|58.24|    3.64|87.36|2019-11-26|\n",
      "|  YR7220|      New York|         Fashion|  39520263| 85| 51.0|    2.55|82.45|2019-11-26|\n",
      "|  YR7220|      New York|         Kitchen|  93809204| 37|24.05|    0.74|36.26|2019-11-26|\n",
      "|  YR7220|      New York|       Cosmetics|  86610412| 80| 48.8|     6.4| 73.6|2019-11-26|\n",
      "|  YR7220|      New York|         Kitchen|  52503356| 71| 42.6|    5.68|65.32|2019-11-26|\n",
      "|  YR7220|      New York|         Kitchen|  77516479| 92|56.12|    3.68|88.32|2019-11-26|\n",
      "|  YR7220|      New York|       Cosmetics|  47334289| 16|10.72|    0.96|15.04|2019-11-26|\n",
      "|  YR7220|      New York|       Cosmetics|  87566223| 38|23.18|    2.66|35.34|2019-11-26|\n",
      "|  YR7220|      New York|     Electronics|  54074401| 26|17.68|    0.52|25.48|2019-11-26|\n",
      "|  YR7220|      New York|         Fashion|  24246520| 45|30.15|    1.35|43.65|2019-11-26|\n",
      "|  YR7220|      New York|       Cosmetics|  61138610| 83|57.27|    1.66|81.34|2019-11-26|\n",
      "|  YR7220|      New York|         Kitchen|  69018554| 55| 37.4|    1.65|53.35|2019-11-26|\n",
      "|  YR7220|      New York|       Groceries|  11950073| 13| 7.93|    0.39|12.61|2019-11-26|\n",
      "|  YR7220|      New York|         Fashion|  86404418| 69| 48.3|    4.83|64.17|2019-11-26|\n",
      "|  YR7220|      New York|         Fashion|  91763000| 18| 11.7|    0.36|17.64|2019-11-26|\n",
      "|  YR7220|      New York|       Groceries|  53648681| 52|36.92|    1.04|50.96|2019-11-26|\n",
      "|  YR7220|      New York|       Groceries|  15652465| 29|18.85|    2.03|26.97|2019-11-26|\n",
      "+--------+--------------+----------------+----------+---+-----+--------+-----+----------+\n",
      "only showing top 20 rows\n",
      "\n"
     ]
    }
   ],
   "source": [
    "parquet_df = spark.read.orc(\"spark_output_format/orc\")\n",
    "\n",
    "parquet_df.show()"
   ]
  },
  {
   "cell_type": "code",
   "execution_count": 31,
   "id": "e160f153-9738-4286-9afe-519bf09e7219",
   "metadata": {},
   "outputs": [
    {
     "name": "stdout",
     "output_type": "stream",
     "text": [
      "+--------+--------------+----------------+----------+---+-----+--------+-----+----------+\n",
      "|STORE_ID|STORE_LOCATION|PRODUCT_CATEGORY|PRODUCT_ID|MRP|   CP|DISCOUNT|   SP|      DATE|\n",
      "+--------+--------------+----------------+----------+---+-----+--------+-----+----------+\n",
      "|  YR7220|      New York|     Electronics|  12254943| 31|20.77|    1.86|29.14|2019-11-26|\n",
      "|  YR7220|      New York|       Furniture|  72619323| 15| 9.75|     1.5| 13.5|2019-11-26|\n",
      "|  YR7220|      New York|     Electronics|  34161682| 88|62.48|     4.4| 83.6|2019-11-26|\n",
      "|  YR7220|      New York|         Kitchen|  79411621| 91|58.24|    3.64|87.36|2019-11-26|\n",
      "|  YR7220|      New York|         Fashion|  39520263| 85| 51.0|    2.55|82.45|2019-11-26|\n",
      "|  YR7220|      New York|         Kitchen|  93809204| 37|24.05|    0.74|36.26|2019-11-26|\n",
      "|  YR7220|      New York|       Cosmetics|  86610412| 80| 48.8|     6.4| 73.6|2019-11-26|\n",
      "|  YR7220|      New York|         Kitchen|  52503356| 71| 42.6|    5.68|65.32|2019-11-26|\n",
      "|  YR7220|      New York|         Kitchen|  77516479| 92|56.12|    3.68|88.32|2019-11-26|\n",
      "|  YR7220|      New York|       Cosmetics|  47334289| 16|10.72|    0.96|15.04|2019-11-26|\n",
      "|  YR7220|      New York|       Cosmetics|  87566223| 38|23.18|    2.66|35.34|2019-11-26|\n",
      "|  YR7220|      New York|     Electronics|  54074401| 26|17.68|    0.52|25.48|2019-11-26|\n",
      "|  YR7220|      New York|         Fashion|  24246520| 45|30.15|    1.35|43.65|2019-11-26|\n",
      "|  YR7220|      New York|       Cosmetics|  61138610| 83|57.27|    1.66|81.34|2019-11-26|\n",
      "|  YR7220|      New York|         Kitchen|  69018554| 55| 37.4|    1.65|53.35|2019-11-26|\n",
      "|  YR7220|      New York|       Groceries|  11950073| 13| 7.93|    0.39|12.61|2019-11-26|\n",
      "|  YR7220|      New York|         Fashion|  86404418| 69| 48.3|    4.83|64.17|2019-11-26|\n",
      "|  YR7220|      New York|         Fashion|  91763000| 18| 11.7|    0.36|17.64|2019-11-26|\n",
      "|  YR7220|      New York|       Groceries|  53648681| 52|36.92|    1.04|50.96|2019-11-26|\n",
      "|  YR7220|      New York|       Groceries|  15652465| 29|18.85|    2.03|26.97|2019-11-26|\n",
      "+--------+--------------+----------------+----------+---+-----+--------+-----+----------+\n",
      "only showing top 20 rows\n",
      "\n"
     ]
    }
   ],
   "source": [
    "parquet_df = spark.read.parquet(\"spark_output_format/parquet\")\n",
    "\n",
    "parquet_df.show()"
   ]
  },
  {
   "cell_type": "code",
   "execution_count": null,
   "id": "d2a2ce38-7bc8-407b-ab55-4fea4eef191d",
   "metadata": {},
   "outputs": [],
   "source": []
  }
 ],
 "metadata": {
  "kernelspec": {
   "display_name": "Python 3 (ipykernel)",
   "language": "python",
   "name": "python3"
  },
  "language_info": {
   "codemirror_mode": {
    "name": "ipython",
    "version": 3
   },
   "file_extension": ".py",
   "mimetype": "text/x-python",
   "name": "python",
   "nbconvert_exporter": "python",
   "pygments_lexer": "ipython3",
   "version": "3.8.18"
  }
 },
 "nbformat": 4,
 "nbformat_minor": 5
}
