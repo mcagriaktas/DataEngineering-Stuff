{
 "cells": [
  {
   "cell_type": "markdown",
   "id": "a51817d1-cc12-4600-90c6-6dcf90a0ae53",
   "metadata": {},
   "source": [
    "# Main Input"
   ]
  },
  {
   "cell_type": "code",
   "execution_count": 1,
   "id": "12a25aa4-2fb1-4a8e-9dfe-5ed6bfd5ecf0",
   "metadata": {},
   "outputs": [],
   "source": [
    "import findspark\n",
    "findspark.init(\"/opt/spark\")\n",
    "from elasticsearch import Elasticsearch, helpers\n",
    "import time\n",
    "from pyspark.sql.types import *\n",
    "from pyspark.sql.functions import *\n",
    "import pandas as pd\n",
    "pd.set_option('display.max_columns', None)"
   ]
  },
  {
   "cell_type": "code",
   "execution_count": 2,
   "id": "ed0cec93-55b3-4cfc-bcac-59d60aac061c",
   "metadata": {},
   "outputs": [],
   "source": [
    "from pyspark.sql import SparkSession, functions as F"
   ]
  },
  {
   "cell_type": "code",
   "execution_count": 3,
   "id": "bde8fe64-631f-4a61-94a7-464843d592c0",
   "metadata": {},
   "outputs": [
    {
     "name": "stdout",
     "output_type": "stream",
     "text": [
      ":: loading settings :: url = jar:file:/opt/spark/jars/ivy-2.5.1.jar!/org/apache/ivy/core/settings/ivysettings.xml\n"
     ]
    },
    {
     "name": "stderr",
     "output_type": "stream",
     "text": [
      "Ivy Default Cache set to: /root/.ivy2/cache\n",
      "The jars for the packages stored in: /root/.ivy2/jars\n",
      "org.elasticsearch#elasticsearch-spark-30_2.12 added as a dependency\n",
      "commons-httpclient#commons-httpclient added as a dependency\n",
      "io.delta#delta-core_2.12 added as a dependency\n",
      ":: resolving dependencies :: org.apache.spark#spark-submit-parent-07697ec2-5b5f-46ab-b285-5603a014ba29;1.0\n",
      "\tconfs: [default]\n",
      "\tfound org.elasticsearch#elasticsearch-spark-30_2.12;7.12.1 in central\n",
      "\tfound org.scala-lang#scala-reflect;2.12.8 in central\n",
      "\tfound org.slf4j#slf4j-api;1.7.6 in central\n",
      "\tfound commons-logging#commons-logging;1.1.1 in central\n",
      "\tfound javax.xml.bind#jaxb-api;2.3.1 in central\n",
      "\tfound com.google.protobuf#protobuf-java;2.5.0 in central\n",
      "\tfound org.apache.spark#spark-yarn_2.12;3.0.1 in central\n",
      "\tfound commons-httpclient#commons-httpclient;3.1 in central\n",
      "\tfound commons-codec#commons-codec;1.2 in central\n",
      "\tfound io.delta#delta-core_2.12;2.4.0 in central\n",
      "\tfound io.delta#delta-storage;2.4.0 in central\n",
      "\tfound org.antlr#antlr4-runtime;4.9.3 in central\n",
      ":: resolution report :: resolve 1719ms :: artifacts dl 59ms\n",
      "\t:: modules in use:\n",
      "\tcom.google.protobuf#protobuf-java;2.5.0 from central in [default]\n",
      "\tcommons-codec#commons-codec;1.2 from central in [default]\n",
      "\tcommons-httpclient#commons-httpclient;3.1 from central in [default]\n",
      "\tcommons-logging#commons-logging;1.1.1 from central in [default]\n",
      "\tio.delta#delta-core_2.12;2.4.0 from central in [default]\n",
      "\tio.delta#delta-storage;2.4.0 from central in [default]\n",
      "\tjavax.xml.bind#jaxb-api;2.3.1 from central in [default]\n",
      "\torg.antlr#antlr4-runtime;4.9.3 from central in [default]\n",
      "\torg.apache.spark#spark-yarn_2.12;3.0.1 from central in [default]\n",
      "\torg.elasticsearch#elasticsearch-spark-30_2.12;7.12.1 from central in [default]\n",
      "\torg.scala-lang#scala-reflect;2.12.8 from central in [default]\n",
      "\torg.slf4j#slf4j-api;1.7.6 from central in [default]\n",
      "\t:: evicted modules:\n",
      "\tcommons-logging#commons-logging;1.0.4 by [commons-logging#commons-logging;1.1.1] in [default]\n",
      "\t---------------------------------------------------------------------\n",
      "\t|                  |            modules            ||   artifacts   |\n",
      "\t|       conf       | number| search|dwnlded|evicted|| number|dwnlded|\n",
      "\t---------------------------------------------------------------------\n",
      "\t|      default     |   13  |   0   |   0   |   1   ||   12  |   0   |\n",
      "\t---------------------------------------------------------------------\n",
      ":: retrieving :: org.apache.spark#spark-submit-parent-07697ec2-5b5f-46ab-b285-5603a014ba29\n",
      "\tconfs: [default]\n",
      "\t0 artifacts copied, 12 already retrieved (0kB/56ms)\n",
      "23/10/30 22:26:52 WARN NativeCodeLoader: Unable to load native-hadoop library for your platform... using builtin-java classes where applicable\n",
      "Setting default log level to \"WARN\".\n",
      "To adjust logging level use sc.setLogLevel(newLevel). For SparkR, use setLogLevel(newLevel).\n"
     ]
    }
   ],
   "source": [
    "spark = (\n",
    "    SparkSession.builder\n",
    "    .appName(\"Spark Elasticsearch\")\n",
    "    .master(\"local[2]\")\n",
    "    .config(\"spark.driver.memory\",\"2048m\")\n",
    "    .config(\"spark.sql.shuffle.partitions\", 4) \n",
    "    .config(\"spark.sql.legacy.timeParserPolicy\", \"LEGACY\") \n",
    "    .config(\"spark.serializer\", \"org.apache.spark.serializer.KryoSerializer\")\n",
    "    .config(\"spark.jars.packages\", \"org.elasticsearch:elasticsearch-spark-30_2.12:7.12.1,commons-httpclient:commons-httpclient:3.1,io.delta:delta-core_2.12:2.4.0\") \n",
    "    .getOrCreate()\n",
    ")"
   ]
  },
  {
   "cell_type": "code",
   "execution_count": 5,
   "id": "b59bf7e3-1816-4a35-8042-e333f438f3a3",
   "metadata": {},
   "outputs": [
    {
     "name": "stderr",
     "output_type": "stream",
     "text": [
      "                                                                                \r"
     ]
    }
   ],
   "source": [
    "df = spark.read.format(\"csv\") \\\n",
    "    .option(\"header\", True) \\\n",
    "    .option(\"inferSchema\", True) \\\n",
    "    .option(\"delimiter\", \";\") \\\n",
    "    .load(\"market1mil.csv\")"
   ]
  },
  {
   "cell_type": "code",
   "execution_count": 6,
   "id": "c55653c0-94b7-4e05-bc8e-fe92e2b94204",
   "metadata": {},
   "outputs": [
    {
     "name": "stderr",
     "output_type": "stream",
     "text": [
      "                                                                                \r"
     ]
    },
    {
     "data": {
      "text/plain": [
       "999853"
      ]
     },
     "execution_count": 6,
     "metadata": {},
     "output_type": "execute_result"
    }
   ],
   "source": [
    "df.count()"
   ]
  },
  {
   "cell_type": "code",
   "execution_count": 222,
   "id": "a81b656a-ffd2-4f51-9aa2-e73798c28ea5",
   "metadata": {},
   "outputs": [
    {
     "data": {
      "text/html": [
       "<div>\n",
       "<style scoped>\n",
       "    .dataframe tbody tr th:only-of-type {\n",
       "        vertical-align: middle;\n",
       "    }\n",
       "\n",
       "    .dataframe tbody tr th {\n",
       "        vertical-align: top;\n",
       "    }\n",
       "\n",
       "    .dataframe thead th {\n",
       "        text-align: right;\n",
       "    }\n",
       "</style>\n",
       "<table border=\"1\" class=\"dataframe\">\n",
       "  <thead>\n",
       "    <tr style=\"text-align: right;\">\n",
       "      <th></th>\n",
       "      <th>LOGICALREF</th>\n",
       "      <th>COUNT_</th>\n",
       "      <th>ITEMCODE</th>\n",
       "      <th>ITEMNAME</th>\n",
       "      <th>FICHENO</th>\n",
       "      <th>DATE_</th>\n",
       "      <th>AMOUNT</th>\n",
       "      <th>PRICE</th>\n",
       "      <th>LINENETTOTAL</th>\n",
       "      <th>LINENET</th>\n",
       "      <th>BRANCHNR</th>\n",
       "      <th>BRANCH</th>\n",
       "      <th>SALESMAN</th>\n",
       "      <th>CITY</th>\n",
       "      <th>REGION</th>\n",
       "      <th>LATITUDE</th>\n",
       "      <th>LONGITUDE</th>\n",
       "      <th>CLIENTCODE</th>\n",
       "      <th>CLIENTNAME</th>\n",
       "      <th>BRANDCODE</th>\n",
       "      <th>BRAND</th>\n",
       "      <th>CATEGORY_NAME1</th>\n",
       "      <th>CATEGORY_NAME2</th>\n",
       "      <th>CATEGORY_NAME3</th>\n",
       "      <th>STARTDATE</th>\n",
       "      <th>ENDDATE</th>\n",
       "      <th>SPECODE</th>\n",
       "      <th>CAPIBLOCK_CREADEDDATE</th>\n",
       "    </tr>\n",
       "  </thead>\n",
       "  <tbody>\n",
       "    <tr>\n",
       "      <th>0</th>\n",
       "      <td>1</td>\n",
       "      <td>1</td>\n",
       "      <td>8</td>\n",
       "      <td>TOZ SEKER</td>\n",
       "      <td>15560</td>\n",
       "      <td>2.01.2017 00:00</td>\n",
       "      <td>45</td>\n",
       "      <td>2,65</td>\n",
       "      <td>5,3</td>\n",
       "      <td>4,9</td>\n",
       "      <td>14</td>\n",
       "      <td>Batman Subesi</td>\n",
       "      <td>Gürsel ÜZÜM</td>\n",
       "      <td>Batman</td>\n",
       "      <td>Güneydoğu Anadolu</td>\n",
       "      <td>37,8812</td>\n",
       "      <td>41,1351</td>\n",
       "      <td>6476</td>\n",
       "      <td>Hanım CANBULAT</td>\n",
       "      <td>None</td>\n",
       "      <td>None</td>\n",
       "      <td>İÇECEK</td>\n",
       "      <td>ÇAY KAHVE</td>\n",
       "      <td>SEKER TATLANDIRICI</td>\n",
       "      <td>3.01.2017 09:25</td>\n",
       "      <td>3.01.2017 09:25</td>\n",
       "      <td>K</td>\n",
       "      <td>14.07.2018 01:50</td>\n",
       "    </tr>\n",
       "    <tr>\n",
       "      <th>1</th>\n",
       "      <td>2</td>\n",
       "      <td>1</td>\n",
       "      <td>20868</td>\n",
       "      <td>KIRMIZI MERCIMEK</td>\n",
       "      <td>15560</td>\n",
       "      <td>2.01.2017 00:00</td>\n",
       "      <td>1,006</td>\n",
       "      <td>2,8</td>\n",
       "      <td>2,82</td>\n",
       "      <td>2,79</td>\n",
       "      <td>14</td>\n",
       "      <td>Batman Subesi</td>\n",
       "      <td>Gürsel ÜZÜM</td>\n",
       "      <td>Batman</td>\n",
       "      <td>Güneydoğu Anadolu</td>\n",
       "      <td>37,8812</td>\n",
       "      <td>41,1351</td>\n",
       "      <td>6476</td>\n",
       "      <td>Hanım CANBULAT</td>\n",
       "      <td>167</td>\n",
       "      <td>BAKLİYAT</td>\n",
       "      <td>GIDA</td>\n",
       "      <td>BAKLİYAT</td>\n",
       "      <td>AÇIK BAKLİYAT</td>\n",
       "      <td>3.01.2017 09:25</td>\n",
       "      <td>3.01.2017 09:25</td>\n",
       "      <td>K</td>\n",
       "      <td>14.07.2018 01:50</td>\n",
       "    </tr>\n",
       "    <tr>\n",
       "      <th>2</th>\n",
       "      <td>3</td>\n",
       "      <td>1</td>\n",
       "      <td>8583</td>\n",
       "      <td>TEST MATIK 1,5 KG NORMAL</td>\n",
       "      <td>15560</td>\n",
       "      <td>2.01.2017 00:00</td>\n",
       "      <td>1</td>\n",
       "      <td>4,95</td>\n",
       "      <td>4,95</td>\n",
       "      <td>4,19</td>\n",
       "      <td>14</td>\n",
       "      <td>Batman Subesi</td>\n",
       "      <td>Gürsel ÜZÜM</td>\n",
       "      <td>Batman</td>\n",
       "      <td>Güneydoğu Anadolu</td>\n",
       "      <td>37,8812</td>\n",
       "      <td>41,1351</td>\n",
       "      <td>6476</td>\n",
       "      <td>Hanım CANBULAT</td>\n",
       "      <td>229</td>\n",
       "      <td>TEST</td>\n",
       "      <td>DETERJAN TEMİZLİK</td>\n",
       "      <td>ÇAMAŞIR YIKAMA</td>\n",
       "      <td>TOZ DETERJAN</td>\n",
       "      <td>3.01.2017 09:25</td>\n",
       "      <td>3.01.2017 09:25</td>\n",
       "      <td>K</td>\n",
       "      <td>14.07.2018 01:50</td>\n",
       "    </tr>\n",
       "    <tr>\n",
       "      <th>3</th>\n",
       "      <td>4</td>\n",
       "      <td>1</td>\n",
       "      <td>1454</td>\n",
       "      <td>BIZIM MAKARNA BONCUK</td>\n",
       "      <td>15560</td>\n",
       "      <td>2.01.2017 00:00</td>\n",
       "      <td>1</td>\n",
       "      <td>1,1</td>\n",
       "      <td>1,1</td>\n",
       "      <td>1,02</td>\n",
       "      <td>14</td>\n",
       "      <td>Batman Subesi</td>\n",
       "      <td>Gürsel ÜZÜM</td>\n",
       "      <td>Batman</td>\n",
       "      <td>Güneydoğu Anadolu</td>\n",
       "      <td>37,8812</td>\n",
       "      <td>41,1351</td>\n",
       "      <td>6476</td>\n",
       "      <td>Hanım CANBULAT</td>\n",
       "      <td>146</td>\n",
       "      <td>ÜLKER</td>\n",
       "      <td>GIDA</td>\n",
       "      <td>MAKARNA</td>\n",
       "      <td>MAKARNA</td>\n",
       "      <td>3.01.2017 09:25</td>\n",
       "      <td>3.01.2017 09:25</td>\n",
       "      <td>K</td>\n",
       "      <td>14.07.2018 01:50</td>\n",
       "    </tr>\n",
       "    <tr>\n",
       "      <th>4</th>\n",
       "      <td>5</td>\n",
       "      <td>1</td>\n",
       "      <td>13519</td>\n",
       "      <td>FILIZ MAKARNA KISA KESME 500 GR</td>\n",
       "      <td>15560</td>\n",
       "      <td>2.01.2017 00:00</td>\n",
       "      <td>1</td>\n",
       "      <td>1,1</td>\n",
       "      <td>1,1</td>\n",
       "      <td>1,02</td>\n",
       "      <td>14</td>\n",
       "      <td>Batman Subesi</td>\n",
       "      <td>Gürsel ÜZÜM</td>\n",
       "      <td>Batman</td>\n",
       "      <td>Güneydoğu Anadolu</td>\n",
       "      <td>37,8812</td>\n",
       "      <td>41,1351</td>\n",
       "      <td>6476</td>\n",
       "      <td>Hanım CANBULAT</td>\n",
       "      <td>52</td>\n",
       "      <td>FİLİZ</td>\n",
       "      <td>GIDA</td>\n",
       "      <td>MAKARNA</td>\n",
       "      <td>MAKARNA</td>\n",
       "      <td>3.01.2017 09:25</td>\n",
       "      <td>3.01.2017 09:25</td>\n",
       "      <td>K</td>\n",
       "      <td>14.07.2018 01:50</td>\n",
       "    </tr>\n",
       "  </tbody>\n",
       "</table>\n",
       "</div>"
      ],
      "text/plain": [
       "  LOGICALREF  COUNT_  ITEMCODE                         ITEMNAME  FICHENO  \\\n",
       "0          1       1         8                        TOZ SEKER    15560   \n",
       "1          2       1     20868                 KIRMIZI MERCIMEK    15560   \n",
       "2          3       1      8583         TEST MATIK 1,5 KG NORMAL    15560   \n",
       "3          4       1      1454             BIZIM MAKARNA BONCUK    15560   \n",
       "4          5       1     13519  FILIZ MAKARNA KISA KESME 500 GR    15560   \n",
       "\n",
       "             DATE_ AMOUNT PRICE LINENETTOTAL LINENET  BRANCHNR         BRANCH  \\\n",
       "0  2.01.2017 00:00     45  2,65          5,3     4,9        14  Batman Subesi   \n",
       "1  2.01.2017 00:00  1,006   2,8         2,82    2,79        14  Batman Subesi   \n",
       "2  2.01.2017 00:00      1  4,95         4,95    4,19        14  Batman Subesi   \n",
       "3  2.01.2017 00:00      1   1,1          1,1    1,02        14  Batman Subesi   \n",
       "4  2.01.2017 00:00      1   1,1          1,1    1,02        14  Batman Subesi   \n",
       "\n",
       "      SALESMAN    CITY             REGION LATITUDE LONGITUDE CLIENTCODE  \\\n",
       "0  Gürsel ÜZÜM  Batman  Güneydoğu Anadolu  37,8812   41,1351       6476   \n",
       "1  Gürsel ÜZÜM  Batman  Güneydoğu Anadolu  37,8812   41,1351       6476   \n",
       "2  Gürsel ÜZÜM  Batman  Güneydoğu Anadolu  37,8812   41,1351       6476   \n",
       "3  Gürsel ÜZÜM  Batman  Güneydoğu Anadolu  37,8812   41,1351       6476   \n",
       "4  Gürsel ÜZÜM  Batman  Güneydoğu Anadolu  37,8812   41,1351       6476   \n",
       "\n",
       "       CLIENTNAME BRANDCODE     BRAND     CATEGORY_NAME1  CATEGORY_NAME2  \\\n",
       "0  Hanım CANBULAT      None      None             İÇECEK       ÇAY KAHVE   \n",
       "1  Hanım CANBULAT       167  BAKLİYAT               GIDA        BAKLİYAT   \n",
       "2  Hanım CANBULAT       229      TEST  DETERJAN TEMİZLİK  ÇAMAŞIR YIKAMA   \n",
       "3  Hanım CANBULAT       146     ÜLKER               GIDA         MAKARNA   \n",
       "4  Hanım CANBULAT        52     FİLİZ               GIDA         MAKARNA   \n",
       "\n",
       "       CATEGORY_NAME3        STARTDATE          ENDDATE SPECODE  \\\n",
       "0  SEKER TATLANDIRICI  3.01.2017 09:25  3.01.2017 09:25       K   \n",
       "1       AÇIK BAKLİYAT  3.01.2017 09:25  3.01.2017 09:25       K   \n",
       "2        TOZ DETERJAN  3.01.2017 09:25  3.01.2017 09:25       K   \n",
       "3            MAKARNA   3.01.2017 09:25  3.01.2017 09:25       K   \n",
       "4            MAKARNA   3.01.2017 09:25  3.01.2017 09:25       K   \n",
       "\n",
       "  CAPIBLOCK_CREADEDDATE  \n",
       "0      14.07.2018 01:50  \n",
       "1      14.07.2018 01:50  \n",
       "2      14.07.2018 01:50  \n",
       "3      14.07.2018 01:50  \n",
       "4      14.07.2018 01:50  "
      ]
     },
     "execution_count": 222,
     "metadata": {},
     "output_type": "execute_result"
    }
   ],
   "source": [
    "df.limit(5).toPandas()"
   ]
  },
  {
   "cell_type": "code",
   "execution_count": 223,
   "id": "f2a70ace-cccd-4f06-a5c2-9c8f0f53c24e",
   "metadata": {},
   "outputs": [
    {
     "name": "stdout",
     "output_type": "stream",
     "text": [
      "root\n",
      " |-- LOGICALREF: string (nullable = true)\n",
      " |-- COUNT_: integer (nullable = true)\n",
      " |-- ITEMCODE: integer (nullable = true)\n",
      " |-- ITEMNAME: string (nullable = true)\n",
      " |-- FICHENO: integer (nullable = true)\n",
      " |-- DATE_: string (nullable = true)\n",
      " |-- AMOUNT: string (nullable = true)\n",
      " |-- PRICE: string (nullable = true)\n",
      " |-- LINENETTOTAL: string (nullable = true)\n",
      " |-- LINENET: string (nullable = true)\n",
      " |-- BRANCHNR: integer (nullable = true)\n",
      " |-- BRANCH: string (nullable = true)\n",
      " |-- SALESMAN: string (nullable = true)\n",
      " |-- CITY: string (nullable = true)\n",
      " |-- REGION: string (nullable = true)\n",
      " |-- LATITUDE: string (nullable = true)\n",
      " |-- LONGITUDE: string (nullable = true)\n",
      " |-- CLIENTCODE: string (nullable = true)\n",
      " |-- CLIENTNAME: string (nullable = true)\n",
      " |-- BRANDCODE: string (nullable = true)\n",
      " |-- BRAND: string (nullable = true)\n",
      " |-- CATEGORY_NAME1: string (nullable = true)\n",
      " |-- CATEGORY_NAME2: string (nullable = true)\n",
      " |-- CATEGORY_NAME3: string (nullable = true)\n",
      " |-- STARTDATE: string (nullable = true)\n",
      " |-- ENDDATE: string (nullable = true)\n",
      " |-- SPECODE: string (nullable = true)\n",
      " |-- CAPIBLOCK_CREADEDDATE: string (nullable = true)\n",
      "\n"
     ]
    }
   ],
   "source": [
    "df.printSchema()"
   ]
  },
  {
   "cell_type": "markdown",
   "id": "2b758275-81ed-4611-a447-ee9006eb19f9",
   "metadata": {},
   "source": [
    "# Clean"
   ]
  },
  {
   "cell_type": "code",
   "execution_count": 7,
   "id": "55c0b402-82b2-4e64-aa0a-95a421b25fda",
   "metadata": {},
   "outputs": [],
   "source": [
    "df1 = df.select(\"LOGICALREF\", \"ITEMCODE\", \"ITEMNAME\", \"AMOUNT\", \"PRICE\", \"LINENETTOTAL\",\n",
    "          \"BRANCH\", \"CITY\", \"BRAND\", \"STARTDATE\", \"LATITUDE\", \"LONGITUDE\")"
   ]
  },
  {
   "cell_type": "code",
   "execution_count": 8,
   "id": "13f0d74e-70c7-43e4-bd73-eb74e3ba5f65",
   "metadata": {},
   "outputs": [],
   "source": [
    "df1 = df1.dropna()"
   ]
  },
  {
   "cell_type": "code",
   "execution_count": 9,
   "id": "19469eda-cb32-4e70-af5d-e62faf116a82",
   "metadata": {},
   "outputs": [],
   "source": [
    "df1 = df1.withColumn(\"original_datetime\", to_timestamp(col(\"STARTDATE\"), \"dd.MM.yyyy HH:mm\"))\n",
    "df1 = df1.withColumn(\"STARTDATE\", date_format(col(\"original_datetime\"), \"yyyy-MM-dd hh:mm\"))\n",
    "df1 = df1.withColumn(\"STARTDATE\", (unix_timestamp(to_timestamp(col(\"STARTDATE\"), \"yyyy-MM-dd hh:mm\")) * 1000))"
   ]
  },
  {
   "cell_type": "code",
   "execution_count": 10,
   "id": "7a11d4d4-c1b2-4682-8418-7eb88531abbd",
   "metadata": {},
   "outputs": [],
   "source": [
    "# Replace commas with dots\n",
    "df1 = df1.withColumn(\"LATITUDE\", regexp_replace(col(\"LATITUDE\"), \",\", \".\"))\n",
    "df1 = df1.withColumn(\"LONGITUDE\", regexp_replace(col(\"LONGITUDE\"), \",\", \".\"))\n",
    "\n",
    "# Cast to DoubleType while handling non-numeric values\n",
    "df1 = df1.withColumn(\"LATITUDE\", col(\"LATITUDE\").cast(DoubleType()))\n",
    "df1 = df1.withColumn(\"LONGITUDE\", col(\"LONGITUDE\").cast(DoubleType()))\n",
    "\n",
    "df1 = df1.filter(\n",
    "    (col(\"LATITUDE\").between(-90, 90)) &\n",
    "    (col(\"LONGITUDE\").between(-180, 180))\n",
    ")\n",
    "\n",
    "# Create the LOCATION column\n",
    "df1 = df1.withColumn(\"LOCATION\", concat_ws(\",\", col(\"LATITUDE\"), col(\"LONGITUDE\")))"
   ]
  },
  {
   "cell_type": "code",
   "execution_count": 11,
   "id": "81fb3074-ab20-4d0c-aae0-8fd1d6b18e54",
   "metadata": {},
   "outputs": [
    {
     "name": "stderr",
     "output_type": "stream",
     "text": [
      "                                                                                \r"
     ]
    },
    {
     "data": {
      "text/plain": [
       "936156"
      ]
     },
     "execution_count": 11,
     "metadata": {},
     "output_type": "execute_result"
    }
   ],
   "source": [
    "df1.count()"
   ]
  },
  {
   "cell_type": "code",
   "execution_count": 228,
   "id": "77efa9c0-b33e-4063-bcc2-d9a7b9c3cb0e",
   "metadata": {},
   "outputs": [
    {
     "name": "stdout",
     "output_type": "stream",
     "text": [
      "+----------+--------+--------------------+------+-----+------------+-------------+------+--------+-------------+--------+---------+-------------------+---------------+\n",
      "|LOGICALREF|ITEMCODE|            ITEMNAME|AMOUNT|PRICE|LINENETTOTAL|       BRANCH|  CITY|   BRAND|    STARTDATE|LATITUDE|LONGITUDE|  original_datetime|       LOCATION|\n",
      "+----------+--------+--------------------+------+-----+------------+-------------+------+--------+-------------+--------+---------+-------------------+---------------+\n",
      "|         2|   20868|    KIRMIZI MERCIMEK| 1,006|  2,8|        2,82|Batman Subesi|Batman|BAKLİYAT|1483435500000| 37.8812|  41.1351|2017-01-03 09:25:00|37.8812,41.1351|\n",
      "|         3|    8583|TEST MATIK 1,5 KG...|     1| 4,95|        4,95|Batman Subesi|Batman|    TEST|1483435500000| 37.8812|  41.1351|2017-01-03 09:25:00|37.8812,41.1351|\n",
      "|         4|    1454|BIZIM MAKARNA BONCUK|     1|  1,1|         1,1|Batman Subesi|Batman|   ÜLKER|1483435500000| 37.8812|  41.1351|2017-01-03 09:25:00|37.8812,41.1351|\n",
      "|         5|   13519|FILIZ MAKARNA KIS...|     1|  1,1|         1,1|Batman Subesi|Batman|   FİLİZ|1483435500000| 37.8812|  41.1351|2017-01-03 09:25:00|37.8812,41.1351|\n",
      "|         6|    8639|BINGO ULTRA CAM.S...|     1| 2,45|        2,45|Batman Subesi|Batman|   BİNGO|1483435500000| 37.8812|  41.1351|2017-01-03 09:25:00|37.8812,41.1351|\n",
      "+----------+--------+--------------------+------+-----+------------+-------------+------+--------+-------------+--------+---------+-------------------+---------------+\n",
      "only showing top 5 rows\n",
      "\n"
     ]
    }
   ],
   "source": [
    "df1.show(5)"
   ]
  },
  {
   "cell_type": "code",
   "execution_count": 229,
   "id": "76911021-d6f3-47fb-a5a0-7e7ec9626b88",
   "metadata": {},
   "outputs": [],
   "source": [
    "df1 = df1.filter((col(\"AMOUNT\") > 0) & \n",
    "                 (col(\"PRICE\") > 0) & \n",
    "                 (col(\"LINENETTOTAL\") > 0) & \n",
    "                 (col(\"LATITUDE\") > 0) & \n",
    "                 (col(\"LONGITUDE\") > 0))\n",
    "\n",
    "df1 = df1.filter(col(\"STARTDATE\").isNotNull())\n",
    "df1 = df1.filter(col(\"LATITUDE\").isNotNull())\n",
    "df1 = df1.filter(col(\"LONGITUDE\").isNotNull())"
   ]
  },
  {
   "cell_type": "code",
   "execution_count": 230,
   "id": "f6461eff-6be4-4685-b193-d78e29b655ba",
   "metadata": {},
   "outputs": [
    {
     "data": {
      "text/html": [
       "<div>\n",
       "<style scoped>\n",
       "    .dataframe tbody tr th:only-of-type {\n",
       "        vertical-align: middle;\n",
       "    }\n",
       "\n",
       "    .dataframe tbody tr th {\n",
       "        vertical-align: top;\n",
       "    }\n",
       "\n",
       "    .dataframe thead th {\n",
       "        text-align: right;\n",
       "    }\n",
       "</style>\n",
       "<table border=\"1\" class=\"dataframe\">\n",
       "  <thead>\n",
       "    <tr style=\"text-align: right;\">\n",
       "      <th></th>\n",
       "      <th>LOGICALREF</th>\n",
       "      <th>ITEMCODE</th>\n",
       "      <th>ITEMNAME</th>\n",
       "      <th>AMOUNT</th>\n",
       "      <th>PRICE</th>\n",
       "      <th>LINENETTOTAL</th>\n",
       "      <th>BRANCH</th>\n",
       "      <th>CITY</th>\n",
       "      <th>BRAND</th>\n",
       "      <th>STARTDATE</th>\n",
       "      <th>LATITUDE</th>\n",
       "      <th>LONGITUDE</th>\n",
       "      <th>original_datetime</th>\n",
       "      <th>LOCATION</th>\n",
       "    </tr>\n",
       "  </thead>\n",
       "  <tbody>\n",
       "    <tr>\n",
       "      <th>0</th>\n",
       "      <td>17</td>\n",
       "      <td>2123</td>\n",
       "      <td>TEKEL 2001 SOFT KISA</td>\n",
       "      <td>1</td>\n",
       "      <td>5</td>\n",
       "      <td>5</td>\n",
       "      <td>Adıyaman Subesi</td>\n",
       "      <td>Adıyaman</td>\n",
       "      <td>B.A.T TEKEL</td>\n",
       "      <td>1483435860000</td>\n",
       "      <td>37.7648</td>\n",
       "      <td>38.2786</td>\n",
       "      <td>2017-01-03 09:31:00</td>\n",
       "      <td>37.7648,38.2786</td>\n",
       "    </tr>\n",
       "    <tr>\n",
       "      <th>1</th>\n",
       "      <td>19</td>\n",
       "      <td>21713</td>\n",
       "      <td>L M KISA PAKET</td>\n",
       "      <td>1</td>\n",
       "      <td>7</td>\n",
       "      <td>7</td>\n",
       "      <td>Kırklareli Subesi</td>\n",
       "      <td>Kırklareli</td>\n",
       "      <td>PHILIP MORIS</td>\n",
       "      <td>1483436100000</td>\n",
       "      <td>41.7333</td>\n",
       "      <td>27.2167</td>\n",
       "      <td>2017-01-03 09:35:00</td>\n",
       "      <td>41.7333,27.2167</td>\n",
       "    </tr>\n",
       "    <tr>\n",
       "      <th>2</th>\n",
       "      <td>32</td>\n",
       "      <td>5917</td>\n",
       "      <td>CAMEL SOFT KISA 1913</td>\n",
       "      <td>1</td>\n",
       "      <td>8</td>\n",
       "      <td>8</td>\n",
       "      <td>İzmir Subesi</td>\n",
       "      <td>İzmir</td>\n",
       "      <td>JTİ</td>\n",
       "      <td>1483436640000</td>\n",
       "      <td>38.4189</td>\n",
       "      <td>27.1287</td>\n",
       "      <td>2017-01-03 09:44:00</td>\n",
       "      <td>38.4189,27.1287</td>\n",
       "    </tr>\n",
       "    <tr>\n",
       "      <th>3</th>\n",
       "      <td>36</td>\n",
       "      <td>5362</td>\n",
       "      <td>SİHİRLİ ELLER CİG KÖFTE 200GR</td>\n",
       "      <td>1</td>\n",
       "      <td>2</td>\n",
       "      <td>2</td>\n",
       "      <td>Afyonkarahisar Subesi</td>\n",
       "      <td>Afyonkarahisar</td>\n",
       "      <td>SİHİRLİ ELLER</td>\n",
       "      <td>1483437120000</td>\n",
       "      <td>38.7507</td>\n",
       "      <td>30.5567</td>\n",
       "      <td>2017-01-03 09:52:00</td>\n",
       "      <td>38.7507,30.5567</td>\n",
       "    </tr>\n",
       "    <tr>\n",
       "      <th>4</th>\n",
       "      <td>53</td>\n",
       "      <td>5229</td>\n",
       "      <td>LD BLUE UZUNPAKET</td>\n",
       "      <td>1</td>\n",
       "      <td>5</td>\n",
       "      <td>5</td>\n",
       "      <td>Malatya Subesi</td>\n",
       "      <td>Malatya</td>\n",
       "      <td>JTİ</td>\n",
       "      <td>1483438020000</td>\n",
       "      <td>38.3552</td>\n",
       "      <td>38.3095</td>\n",
       "      <td>2017-01-03 10:07:00</td>\n",
       "      <td>38.3552,38.3095</td>\n",
       "    </tr>\n",
       "  </tbody>\n",
       "</table>\n",
       "</div>"
      ],
      "text/plain": [
       "  LOGICALREF  ITEMCODE                       ITEMNAME AMOUNT PRICE  \\\n",
       "0         17      2123           TEKEL 2001 SOFT KISA      1     5   \n",
       "1         19     21713                 L M KISA PAKET      1     7   \n",
       "2         32      5917           CAMEL SOFT KISA 1913      1     8   \n",
       "3         36      5362  SİHİRLİ ELLER CİG KÖFTE 200GR      1     2   \n",
       "4         53      5229              LD BLUE UZUNPAKET      1     5   \n",
       "\n",
       "  LINENETTOTAL                 BRANCH            CITY          BRAND  \\\n",
       "0            5        Adıyaman Subesi        Adıyaman    B.A.T TEKEL   \n",
       "1            7      Kırklareli Subesi      Kırklareli   PHILIP MORIS   \n",
       "2            8           İzmir Subesi           İzmir            JTİ   \n",
       "3            2  Afyonkarahisar Subesi  Afyonkarahisar  SİHİRLİ ELLER   \n",
       "4            5         Malatya Subesi         Malatya            JTİ   \n",
       "\n",
       "       STARTDATE  LATITUDE  LONGITUDE   original_datetime         LOCATION  \n",
       "0  1483435860000   37.7648    38.2786 2017-01-03 09:31:00  37.7648,38.2786  \n",
       "1  1483436100000   41.7333    27.2167 2017-01-03 09:35:00  41.7333,27.2167  \n",
       "2  1483436640000   38.4189    27.1287 2017-01-03 09:44:00  38.4189,27.1287  \n",
       "3  1483437120000   38.7507    30.5567 2017-01-03 09:52:00  38.7507,30.5567  \n",
       "4  1483438020000   38.3552    38.3095 2017-01-03 10:07:00  38.3552,38.3095  "
      ]
     },
     "execution_count": 230,
     "metadata": {},
     "output_type": "execute_result"
    }
   ],
   "source": [
    "df1.limit(5).toPandas()"
   ]
  },
  {
   "cell_type": "code",
   "execution_count": 141,
   "id": "80d040d1-3f2e-4e19-947b-f662f9928ecc",
   "metadata": {},
   "outputs": [
    {
     "name": "stdout",
     "output_type": "stream",
     "text": [
      "root\n",
      " |-- LOGICALREF: string (nullable = true)\n",
      " |-- ITEMCODE: integer (nullable = true)\n",
      " |-- ITEMNAME: string (nullable = true)\n",
      " |-- AMOUNT: string (nullable = true)\n",
      " |-- PRICE: string (nullable = true)\n",
      " |-- LINENETTOTAL: string (nullable = true)\n",
      " |-- BRANCH: string (nullable = true)\n",
      " |-- CITY: string (nullable = true)\n",
      " |-- BRAND: string (nullable = true)\n",
      " |-- STARTDATE: long (nullable = true)\n",
      " |-- LATITUDE: double (nullable = true)\n",
      " |-- LONGITUDE: double (nullable = true)\n",
      " |-- original_datetime: timestamp (nullable = true)\n",
      " |-- LOCATION: string (nullable = false)\n",
      "\n"
     ]
    }
   ],
   "source": [
    "df1.printSchema()"
   ]
  },
  {
   "cell_type": "markdown",
   "id": "736a24df-2487-4199-8bbf-80313efe7656",
   "metadata": {},
   "source": [
    "# Write"
   ]
  },
  {
   "cell_type": "code",
   "execution_count": 231,
   "id": "3a747b42-ecc2-4d63-a80d-a35a97adedc6",
   "metadata": {},
   "outputs": [],
   "source": [
    "df2 = df1.select(\"LOGICALREF\", \"ITEMCODE\", \"ITEMNAME\", \"AMOUNT\", \"PRICE\", \"LINENETTOTAL\",\n",
    "          \"BRANCH\", \"CITY\", \"BRAND\", \"STARTDATE\", \"LOCATION\")"
   ]
  },
  {
   "cell_type": "code",
   "execution_count": 232,
   "id": "ee5ea91e-074d-47ab-94a6-b94f93070a15",
   "metadata": {},
   "outputs": [],
   "source": [
    "online_markets = {\n",
    "    \"mappings\": {\n",
    "        \"properties\": {\n",
    "            \"LOGICALREF\": {\"type\": \"integer\"},\n",
    "            \"ITEMCODE\": {\"type\": \"integer\"},\n",
    "            \"ITEMNAME\": {\"type\": \"text\"},\n",
    "            \"AMOUNT\": {\"type\": \"float\"},\n",
    "            \"PRICE\": {\"type\": \"float\"},\n",
    "            \"LINENETTOTAL\": {\"type\": \"float\"},\n",
    "            \"BRANCH\": {\"type\": \"keyword\"},\n",
    "            \"CITY\": {\"type\": \"keyword\"},\n",
    "            \"BRAND\": {\"type\": \"keyword\"},\n",
    "            \"STARTDATE\": {\"type\": \"date\"},\n",
    "            \"LOCATION\": {\"type\": \"geo_point\"} \n",
    "                    }\n",
    "              }\n",
    "              }"
   ]
  },
  {
   "cell_type": "code",
   "execution_count": 233,
   "id": "df0e3803-bc63-4d8b-97d5-07c1fb6bfcff",
   "metadata": {},
   "outputs": [],
   "source": [
    "es = Elasticsearch(\"http://es:9200\")"
   ]
  },
  {
   "cell_type": "code",
   "execution_count": 234,
   "id": "4bdbf064-5a51-447f-9eb1-381cf887e677",
   "metadata": {},
   "outputs": [
    {
     "name": "stdout",
     "output_type": "stream",
     "text": [
      "markets  index deleted.\n"
     ]
    }
   ],
   "source": [
    "try:\n",
    "    es.indices.delete(\"markets\")\n",
    "    print(\"markets  index deleted.\")\n",
    "except:\n",
    "    print(\"No index\")"
   ]
  },
  {
   "cell_type": "code",
   "execution_count": 235,
   "id": "66697fb3-3399-4b7f-a6e9-d6be3cfd34b5",
   "metadata": {},
   "outputs": [
    {
     "data": {
      "text/plain": [
       "{'acknowledged': True, 'shards_acknowledged': True, 'index': 'markets'}"
      ]
     },
     "execution_count": 235,
     "metadata": {},
     "output_type": "execute_result"
    }
   ],
   "source": [
    "es.indices.create(index=\"markets\", body=online_markets)"
   ]
  },
  {
   "cell_type": "code",
   "execution_count": 236,
   "id": "6f4a7806-bf2a-4862-9f90-18f15848b402",
   "metadata": {},
   "outputs": [
    {
     "name": "stderr",
     "output_type": "stream",
     "text": [
      "[Stage 107:======================================>                  (2 + 1) / 3]\r"
     ]
    },
    {
     "name": "stdout",
     "output_type": "stream",
     "text": [
      "----- 18.34197187423706 secs -----\n"
     ]
    },
    {
     "name": "stderr",
     "output_type": "stream",
     "text": [
      "                                                                                \r"
     ]
    }
   ],
   "source": [
    "start_time = time.time()\n",
    "\n",
    "df2.write \\\n",
    "    .format(\"org.elasticsearch.spark.sql\") \\\n",
    "    .mode(\"append\") \\\n",
    "    .option(\"es.nodes\", \"es\") \\\n",
    "    .option(\"es.port\",\"9200\") \\\n",
    "    .save(\"markets\")\n",
    "\n",
    "\n",
    "print(\"----- %s secs -----\" %(time.time() - start_time))"
   ]
  },
  {
   "cell_type": "code",
   "execution_count": 238,
   "id": "84f41102-7c1b-4772-afaa-73691eab74eb",
   "metadata": {},
   "outputs": [],
   "source": [
    "df_es = spark.read \\\n",
    "    .format(\"org.elasticsearch.spark.sql\") \\\n",
    "    .option(\"es.nodes\", \"es\") \\\n",
    "    .option(\"es.port\",\"9200\") \\\n",
    "    .load(\"markets\")"
   ]
  },
  {
   "cell_type": "code",
   "execution_count": 239,
   "id": "a84653e2-d083-4996-92cc-bdaf9ffa5733",
   "metadata": {},
   "outputs": [
    {
     "data": {
      "text/html": [
       "<div>\n",
       "<style scoped>\n",
       "    .dataframe tbody tr th:only-of-type {\n",
       "        vertical-align: middle;\n",
       "    }\n",
       "\n",
       "    .dataframe tbody tr th {\n",
       "        vertical-align: top;\n",
       "    }\n",
       "\n",
       "    .dataframe thead th {\n",
       "        text-align: right;\n",
       "    }\n",
       "</style>\n",
       "<table border=\"1\" class=\"dataframe\">\n",
       "  <thead>\n",
       "    <tr style=\"text-align: right;\">\n",
       "      <th></th>\n",
       "      <th>AMOUNT</th>\n",
       "      <th>BRANCH</th>\n",
       "      <th>BRAND</th>\n",
       "      <th>CITY</th>\n",
       "      <th>ITEMCODE</th>\n",
       "      <th>ITEMNAME</th>\n",
       "      <th>LINENETTOTAL</th>\n",
       "      <th>LOCATION</th>\n",
       "      <th>LOGICALREF</th>\n",
       "      <th>PRICE</th>\n",
       "      <th>STARTDATE</th>\n",
       "    </tr>\n",
       "  </thead>\n",
       "  <tbody>\n",
       "    <tr>\n",
       "      <th>0</th>\n",
       "      <td>1.0</td>\n",
       "      <td>Samsun Subesi</td>\n",
       "      <td>B.A.T TEKEL</td>\n",
       "      <td>Samsun</td>\n",
       "      <td>16514</td>\n",
       "      <td>VICEROY RED KISA</td>\n",
       "      <td>6.0</td>\n",
       "      <td>41.2928,36.3313</td>\n",
       "      <td>66257</td>\n",
       "      <td>6.0</td>\n",
       "      <td>2017-01-15 08:39:00</td>\n",
       "    </tr>\n",
       "    <tr>\n",
       "      <th>1</th>\n",
       "      <td>1.0</td>\n",
       "      <td>İstanbul Subesi</td>\n",
       "      <td>BİLLUR</td>\n",
       "      <td>İstanbul</td>\n",
       "      <td>14745</td>\n",
       "      <td>BILLUR TUZ 750 GR.</td>\n",
       "      <td>1.0</td>\n",
       "      <td>41.0053,28.977</td>\n",
       "      <td>66259</td>\n",
       "      <td>1.0</td>\n",
       "      <td>2017-01-15 08:39:00</td>\n",
       "    </tr>\n",
       "    <tr>\n",
       "      <th>2</th>\n",
       "      <td>1.0</td>\n",
       "      <td>Şanlıurfa Subesi</td>\n",
       "      <td>ÜLKER</td>\n",
       "      <td>Şanlıurfa</td>\n",
       "      <td>245</td>\n",
       "      <td>ULKER SAKLIKOY KLASIK 140 GR</td>\n",
       "      <td>1.0</td>\n",
       "      <td>37.1591,38.7969</td>\n",
       "      <td>66285</td>\n",
       "      <td>1.0</td>\n",
       "      <td>2017-01-15 08:45:00</td>\n",
       "    </tr>\n",
       "    <tr>\n",
       "      <th>3</th>\n",
       "      <td>1.0</td>\n",
       "      <td>Şanlıurfa Subesi</td>\n",
       "      <td>ÜLKER</td>\n",
       "      <td>Şanlıurfa</td>\n",
       "      <td>12210</td>\n",
       "      <td>ULKER SAKLIKOY SUTLU KREMALI 140 GR</td>\n",
       "      <td>1.0</td>\n",
       "      <td>37.1591,38.7969</td>\n",
       "      <td>66286</td>\n",
       "      <td>1.0</td>\n",
       "      <td>2017-01-15 08:45:00</td>\n",
       "    </tr>\n",
       "    <tr>\n",
       "      <th>4</th>\n",
       "      <td>1.0</td>\n",
       "      <td>İstanbul Subesi</td>\n",
       "      <td>VİGOR</td>\n",
       "      <td>İstanbul</td>\n",
       "      <td>18921</td>\n",
       "      <td>HD KIRMIZI  KALIN</td>\n",
       "      <td>5.0</td>\n",
       "      <td>41.0053,28.977</td>\n",
       "      <td>66383</td>\n",
       "      <td>5.0</td>\n",
       "      <td>2017-01-15 00:30:00</td>\n",
       "    </tr>\n",
       "  </tbody>\n",
       "</table>\n",
       "</div>"
      ],
      "text/plain": [
       "   AMOUNT            BRANCH        BRAND       CITY  ITEMCODE  \\\n",
       "0     1.0     Samsun Subesi  B.A.T TEKEL     Samsun     16514   \n",
       "1     1.0   İstanbul Subesi       BİLLUR   İstanbul     14745   \n",
       "2     1.0  Şanlıurfa Subesi        ÜLKER  Şanlıurfa       245   \n",
       "3     1.0  Şanlıurfa Subesi        ÜLKER  Şanlıurfa     12210   \n",
       "4     1.0   İstanbul Subesi        VİGOR   İstanbul     18921   \n",
       "\n",
       "                              ITEMNAME  LINENETTOTAL         LOCATION  \\\n",
       "0                     VICEROY RED KISA           6.0  41.2928,36.3313   \n",
       "1                   BILLUR TUZ 750 GR.           1.0   41.0053,28.977   \n",
       "2         ULKER SAKLIKOY KLASIK 140 GR           1.0  37.1591,38.7969   \n",
       "3  ULKER SAKLIKOY SUTLU KREMALI 140 GR           1.0  37.1591,38.7969   \n",
       "4                    HD KIRMIZI  KALIN           5.0   41.0053,28.977   \n",
       "\n",
       "   LOGICALREF  PRICE           STARTDATE  \n",
       "0       66257    6.0 2017-01-15 08:39:00  \n",
       "1       66259    1.0 2017-01-15 08:39:00  \n",
       "2       66285    1.0 2017-01-15 08:45:00  \n",
       "3       66286    1.0 2017-01-15 08:45:00  \n",
       "4       66383    5.0 2017-01-15 00:30:00  "
      ]
     },
     "execution_count": 239,
     "metadata": {},
     "output_type": "execute_result"
    }
   ],
   "source": [
    "df_es.limit(5).toPandas()"
   ]
  },
  {
   "cell_type": "code",
   "execution_count": 240,
   "id": "fc71ae23-56da-4d22-963a-b149f58b0814",
   "metadata": {},
   "outputs": [
    {
     "name": "stdout",
     "output_type": "stream",
     "text": [
      "root\n",
      " |-- AMOUNT: float (nullable = true)\n",
      " |-- BRANCH: string (nullable = true)\n",
      " |-- BRAND: string (nullable = true)\n",
      " |-- CITY: string (nullable = true)\n",
      " |-- ITEMCODE: integer (nullable = true)\n",
      " |-- ITEMNAME: string (nullable = true)\n",
      " |-- LINENETTOTAL: float (nullable = true)\n",
      " |-- LOCATION: string (nullable = true)\n",
      " |-- LOGICALREF: integer (nullable = true)\n",
      " |-- PRICE: float (nullable = true)\n",
      " |-- STARTDATE: timestamp (nullable = true)\n",
      "\n"
     ]
    }
   ],
   "source": [
    "df_es.printSchema()"
   ]
  }
 ],
 "metadata": {
  "kernelspec": {
   "display_name": "Python 3 (ipykernel)",
   "language": "python",
   "name": "python3"
  },
  "language_info": {
   "codemirror_mode": {
    "name": "ipython",
    "version": 3
   },
   "file_extension": ".py",
   "mimetype": "text/x-python",
   "name": "python",
   "nbconvert_exporter": "python",
   "pygments_lexer": "ipython3",
   "version": "3.8.18"
  }
 },
 "nbformat": 4,
 "nbformat_minor": 5
}
